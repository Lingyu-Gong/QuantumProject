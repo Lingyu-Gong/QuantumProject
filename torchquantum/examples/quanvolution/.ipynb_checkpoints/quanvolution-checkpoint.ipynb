{
 "cells": [
  {
   "cell_type": "markdown",
   "metadata": {
    "id": "flsf21MK3KTd"
   },
   "source": [
    "# Quanvolution (Quantum convolution) for MNIST image classification with [TorchQuantum](https://github.com/mit-han-lab/torchquantum).\n",
    "<p align=\"left\">\n",
    "<img src=\"https://github.com/mit-han-lab/torchquantum/blob/master/torchquantum_logo.jpg?raw=true\" alt=\"torchquantum Logo\" width=\"250\">\n",
    "</p>\n",
    "\n",
    "Tutorial Author: Zirui Li, Hanrui Wang\n"
   ]
  },
  {
   "cell_type": "markdown",
   "metadata": {
    "id": "mF5Ayfdg83rT"
   },
   "source": [
    "### Outline\n",
    "1. Introduction to Quanvolutional Neural Network.\n",
    "2. Build and train a Quanvolutional Neural Network.\n",
    "  - a.  Compare Quanvolutional Neural Network with a classic model.\n",
    "  - b. Evaluate on real quantum computer.\n",
    "3. Compare multiple models with or without a trainable quanvolutional filter."
   ]
  },
  {
   "cell_type": "markdown",
   "metadata": {
    "id": "QD-1NDsh-jTm"
   },
   "source": [
    "In this tutorial, we use `tq.QuantumDevice`, `tq.GeneralEncoder`, `tq.RandomLayer`, `tq.MeasureAll`, `tq.PauliZ` class from TrochQuantum.\n",
    "\n",
    "You can learn how to build, train and evaluate a quanvolutional filter using TorchQuantum in this tutorial."
   ]
  },
  {
   "cell_type": "markdown",
   "metadata": {
    "id": "qJv0wED75YTq"
   },
   "source": [
    "## Introduction to Quanvolutional Neural Network.\n",
    "### Convolutional Neural Network\n",
    "Convolutional neural network is a classic neural network genre, mostly applied to anylize visual images. They are known for their convolutional layers that perform convolution. Typically the convolution operation is the Frobenius inner product of the convolution filter with the input image followed by an activation function. The convolution filter slides along the input image and generates a feature map. We can use the feature map for classification.\n",
    "\n",
    "<div align=\"center\">\n",
    "<img src=\"https://github.com/mit-han-lab/torchquantum/blob/master/figs/conv-full-layer.gif?raw=true\" alt=\"conv-full-layer\" width=\"300\">\n",
    "</div>\n",
    "\n",
    "### Quantum convolution\n",
    "One can extend the same idea also to the context of quantum variational circuits. Replace the classical convolution filters with variational quantum circuits and we get quanvolutional neural networks with quanvolutional filters. The quanvolutional filters perform more complex operations in a higher dimension Hilbert space than Frobenius inner product. Therefore, quanvolutional filters have more potential than traditional convolution filters.\n",
    "\n",
    "<div align=\"center\">\n",
    "<img src=\"https://github.com/mit-han-lab/torchquantum/blob/master/figs/hybridmodel.png?raw=true\" alt=\"conv-full-layer\" width=\"800\">\n",
    "</div>"
   ]
  },
  {
   "cell_type": "markdown",
   "metadata": {
    "id": "Vi8LaD0p_5rm"
   },
   "source": [
    "## Build and train a Quanvolutional Neural Network."
   ]
  },
  {
   "cell_type": "markdown",
   "metadata": {
    "id": "pfwd2SNaOA4z",
    "jp-MarkdownHeadingCollapsed": true
   },
   "source": [
    "### Installation\n",
    "Install torchquantum and all the libs we need."
   ]
  },
  {
   "cell_type": "code",
   "execution_count": null,
   "metadata": {
    "colab": {
     "base_uri": "https://localhost:8080/"
    },
    "id": "azb47tvSiaBp",
    "outputId": "f0c4c497-aba5-479c-8979-3996db1174b6"
   },
   "outputs": [
    {
     "name": "stdout",
     "output_type": "stream",
     "text": [
      "Collecting qiskit==0.32.1\n",
      "  Downloading qiskit-0.32.1.tar.gz (13 kB)\n",
      "Collecting qiskit-terra==0.18.3\n",
      "  Downloading qiskit_terra-0.18.3-cp37-cp37m-manylinux2010_x86_64.whl (6.1 MB)\n",
      "\u001b[K     |████████████████████████████████| 6.1 MB 4.1 MB/s \n",
      "\u001b[?25hCollecting qiskit-aer==0.9.1\n",
      "  Downloading qiskit_aer-0.9.1-cp37-cp37m-manylinux_2_12_x86_64.manylinux2010_x86_64.whl (17.9 MB)\n",
      "\u001b[K     |████████████████████████████████| 17.9 MB 633 kB/s \n",
      "\u001b[?25hCollecting qiskit-ibmq-provider==0.18.1\n",
      "  Downloading qiskit_ibmq_provider-0.18.1-py3-none-any.whl (237 kB)\n",
      "\u001b[K     |████████████████████████████████| 237 kB 73.3 MB/s \n",
      "\u001b[?25hCollecting qiskit-ignis==0.6.0\n",
      "  Downloading qiskit_ignis-0.6.0-py3-none-any.whl (207 kB)\n",
      "\u001b[K     |████████████████████████████████| 207 kB 65.4 MB/s \n",
      "\u001b[?25hCollecting qiskit-aqua==0.9.5\n",
      "  Downloading qiskit_aqua-0.9.5-py3-none-any.whl (2.1 MB)\n",
      "\u001b[K     |████████████████████████████████| 2.1 MB 60.5 MB/s \n",
      "\u001b[?25hRequirement already satisfied: scipy>=1.0 in /usr/local/lib/python3.7/dist-packages (from qiskit-aer==0.9.1->qiskit==0.32.1) (1.4.1)\n",
      "Requirement already satisfied: numpy>=1.16.3 in /usr/local/lib/python3.7/dist-packages (from qiskit-aer==0.9.1->qiskit==0.32.1) (1.21.5)\n",
      "Requirement already satisfied: h5py<3.3.0 in /usr/local/lib/python3.7/dist-packages (from qiskit-aqua==0.9.5->qiskit==0.32.1) (3.1.0)\n",
      "Collecting quandl\n",
      "  Downloading Quandl-3.7.0-py2.py3-none-any.whl (26 kB)\n",
      "Requirement already satisfied: scikit-learn>=0.20.0 in /usr/local/lib/python3.7/dist-packages (from qiskit-aqua==0.9.5->qiskit==0.32.1) (1.0.2)\n",
      "Collecting yfinance>=0.1.62\n",
      "  Downloading yfinance-0.1.70-py2.py3-none-any.whl (26 kB)\n",
      "Requirement already satisfied: psutil>=5 in /usr/local/lib/python3.7/dist-packages (from qiskit-aqua==0.9.5->qiskit==0.32.1) (5.4.8)\n",
      "Collecting docplex>=2.21.207\n",
      "  Downloading docplex-2.22.213.tar.gz (634 kB)\n",
      "\u001b[K     |████████████████████████████████| 634 kB 68.2 MB/s \n",
      "\u001b[?25hRequirement already satisfied: setuptools>=40.1.0 in /usr/local/lib/python3.7/dist-packages (from qiskit-aqua==0.9.5->qiskit==0.32.1) (57.4.0)\n",
      "Requirement already satisfied: sympy>=1.3 in /usr/local/lib/python3.7/dist-packages (from qiskit-aqua==0.9.5->qiskit==0.32.1) (1.7.1)\n",
      "Collecting retworkx>=0.8.0\n",
      "  Downloading retworkx-0.11.0-cp37-cp37m-manylinux_2_5_x86_64.manylinux1_x86_64.manylinux_2_12_x86_64.manylinux2010_x86_64.whl (1.6 MB)\n",
      "\u001b[K     |████████████████████████████████| 1.6 MB 21.6 MB/s \n",
      "\u001b[?25hRequirement already satisfied: fastdtw<=0.3.4 in /usr/local/lib/python3.7/dist-packages (from qiskit-aqua==0.9.5->qiskit==0.32.1) (0.3.4)\n",
      "Collecting dlx<=1.0.4\n",
      "  Downloading dlx-1.0.4.tar.gz (5.5 kB)\n",
      "Requirement already satisfied: pandas in /usr/local/lib/python3.7/dist-packages (from qiskit-aqua==0.9.5->qiskit==0.32.1) (1.3.5)\n",
      "Requirement already satisfied: urllib3>=1.21.1 in /usr/local/lib/python3.7/dist-packages (from qiskit-ibmq-provider==0.18.1->qiskit==0.32.1) (1.24.3)\n",
      "Requirement already satisfied: python-dateutil>=2.8.0 in /usr/local/lib/python3.7/dist-packages (from qiskit-ibmq-provider==0.18.1->qiskit==0.32.1) (2.8.2)\n",
      "Collecting requests-ntlm>=1.1.0\n",
      "  Downloading requests_ntlm-1.1.0-py2.py3-none-any.whl (5.7 kB)\n",
      "Requirement already satisfied: requests>=2.19 in /usr/local/lib/python3.7/dist-packages (from qiskit-ibmq-provider==0.18.1->qiskit==0.32.1) (2.23.0)\n",
      "Collecting websocket-client>=1.0.1\n",
      "  Downloading websocket_client-1.2.3-py3-none-any.whl (53 kB)\n",
      "\u001b[K     |████████████████████████████████| 53 kB 2.7 MB/s \n",
      "\u001b[?25hCollecting python-constraint>=1.4\n",
      "  Downloading python-constraint-1.4.0.tar.bz2 (18 kB)\n",
      "Collecting fastjsonschema>=2.10\n",
      "  Downloading fastjsonschema-2.15.3-py3-none-any.whl (22 kB)\n",
      "Collecting symengine>0.7\n",
      "  Downloading symengine-0.8.1-cp37-cp37m-manylinux2010_x86_64.whl (38.2 MB)\n",
      "\u001b[K     |████████████████████████████████| 38.2 MB 116 kB/s \n",
      "\u001b[?25hCollecting tweedledum<2.0,>=1.1\n",
      "  Downloading tweedledum-1.1.1-cp37-cp37m-manylinux_2_12_x86_64.manylinux2010_x86_64.whl (943 kB)\n",
      "\u001b[K     |████████████████████████████████| 943 kB 22.1 MB/s \n",
      "\u001b[?25hCollecting ply>=3.10\n",
      "  Downloading ply-3.11-py2.py3-none-any.whl (49 kB)\n",
      "\u001b[K     |████████████████████████████████| 49 kB 8.3 MB/s \n",
      "\u001b[?25hRequirement already satisfied: dill>=0.3 in /usr/local/lib/python3.7/dist-packages (from qiskit-terra==0.18.3->qiskit==0.32.1) (0.3.4)\n",
      "Requirement already satisfied: jsonschema>=2.6 in /usr/local/lib/python3.7/dist-packages (from qiskit-terra==0.18.3->qiskit==0.32.1) (4.3.3)\n",
      "Requirement already satisfied: six in /usr/local/lib/python3.7/dist-packages (from docplex>=2.21.207->qiskit-aqua==0.9.5->qiskit==0.32.1) (1.15.0)\n",
      "Requirement already satisfied: cached-property in /usr/local/lib/python3.7/dist-packages (from h5py<3.3.0->qiskit-aqua==0.9.5->qiskit==0.32.1) (1.5.2)\n",
      "Requirement already satisfied: importlib-resources>=1.4.0 in /usr/local/lib/python3.7/dist-packages (from jsonschema>=2.6->qiskit-terra==0.18.3->qiskit==0.32.1) (5.4.0)\n",
      "Requirement already satisfied: typing-extensions in /usr/local/lib/python3.7/dist-packages (from jsonschema>=2.6->qiskit-terra==0.18.3->qiskit==0.32.1) (3.10.0.2)\n",
      "Requirement already satisfied: attrs>=17.4.0 in /usr/local/lib/python3.7/dist-packages (from jsonschema>=2.6->qiskit-terra==0.18.3->qiskit==0.32.1) (21.4.0)\n",
      "Requirement already satisfied: importlib-metadata in /usr/local/lib/python3.7/dist-packages (from jsonschema>=2.6->qiskit-terra==0.18.3->qiskit==0.32.1) (4.11.0)\n",
      "Requirement already satisfied: pyrsistent!=0.17.0,!=0.17.1,!=0.17.2,>=0.14.0 in /usr/local/lib/python3.7/dist-packages (from jsonschema>=2.6->qiskit-terra==0.18.3->qiskit==0.32.1) (0.18.1)\n",
      "Requirement already satisfied: zipp>=3.1.0 in /usr/local/lib/python3.7/dist-packages (from importlib-resources>=1.4.0->jsonschema>=2.6->qiskit-terra==0.18.3->qiskit==0.32.1) (3.7.0)\n",
      "Requirement already satisfied: certifi>=2017.4.17 in /usr/local/lib/python3.7/dist-packages (from requests>=2.19->qiskit-ibmq-provider==0.18.1->qiskit==0.32.1) (2021.10.8)\n",
      "Requirement already satisfied: idna<3,>=2.5 in /usr/local/lib/python3.7/dist-packages (from requests>=2.19->qiskit-ibmq-provider==0.18.1->qiskit==0.32.1) (2.10)\n",
      "Requirement already satisfied: chardet<4,>=3.0.2 in /usr/local/lib/python3.7/dist-packages (from requests>=2.19->qiskit-ibmq-provider==0.18.1->qiskit==0.32.1) (3.0.4)\n",
      "Collecting cryptography>=1.3\n",
      "  Downloading cryptography-36.0.1-cp36-abi3-manylinux_2_24_x86_64.whl (3.6 MB)\n",
      "\u001b[K     |████████████████████████████████| 3.6 MB 31.3 MB/s \n",
      "\u001b[?25hCollecting ntlm-auth>=1.0.2\n",
      "  Downloading ntlm_auth-1.5.0-py2.py3-none-any.whl (29 kB)\n",
      "Requirement already satisfied: cffi>=1.12 in /usr/local/lib/python3.7/dist-packages (from cryptography>=1.3->requests-ntlm>=1.1.0->qiskit-ibmq-provider==0.18.1->qiskit==0.32.1) (1.15.0)\n",
      "Requirement already satisfied: pycparser in /usr/local/lib/python3.7/dist-packages (from cffi>=1.12->cryptography>=1.3->requests-ntlm>=1.1.0->qiskit-ibmq-provider==0.18.1->qiskit==0.32.1) (2.21)\n",
      "Requirement already satisfied: joblib>=0.11 in /usr/local/lib/python3.7/dist-packages (from scikit-learn>=0.20.0->qiskit-aqua==0.9.5->qiskit==0.32.1) (1.1.0)\n",
      "Requirement already satisfied: threadpoolctl>=2.0.0 in /usr/local/lib/python3.7/dist-packages (from scikit-learn>=0.20.0->qiskit-aqua==0.9.5->qiskit==0.32.1) (3.1.0)\n",
      "Requirement already satisfied: mpmath>=0.19 in /usr/local/lib/python3.7/dist-packages (from sympy>=1.3->qiskit-aqua==0.9.5->qiskit==0.32.1) (1.2.1)\n",
      "Collecting requests>=2.19\n",
      "  Downloading requests-2.27.1-py2.py3-none-any.whl (63 kB)\n",
      "\u001b[K     |████████████████████████████████| 63 kB 814 kB/s \n",
      "\u001b[?25hRequirement already satisfied: multitasking>=0.0.7 in /usr/local/lib/python3.7/dist-packages (from yfinance>=0.1.62->qiskit-aqua==0.9.5->qiskit==0.32.1) (0.0.10)\n",
      "Collecting lxml>=4.5.1\n",
      "  Downloading lxml-4.7.1-cp37-cp37m-manylinux_2_17_x86_64.manylinux2014_x86_64.manylinux_2_24_x86_64.whl (6.4 MB)\n",
      "\u001b[K     |████████████████████████████████| 6.4 MB 30.3 MB/s \n",
      "\u001b[?25hRequirement already satisfied: pytz>=2017.3 in /usr/local/lib/python3.7/dist-packages (from pandas->qiskit-aqua==0.9.5->qiskit==0.32.1) (2018.9)\n",
      "Requirement already satisfied: charset-normalizer~=2.0.0 in /usr/local/lib/python3.7/dist-packages (from requests>=2.19->qiskit-ibmq-provider==0.18.1->qiskit==0.32.1) (2.0.11)\n",
      "Collecting inflection>=0.3.1\n",
      "  Downloading inflection-0.5.1-py2.py3-none-any.whl (9.5 kB)\n",
      "Requirement already satisfied: more-itertools in /usr/local/lib/python3.7/dist-packages (from quandl->qiskit-aqua==0.9.5->qiskit==0.32.1) (8.12.0)\n",
      "Building wheels for collected packages: qiskit, dlx, docplex, python-constraint\n",
      "  Building wheel for qiskit (setup.py) ... \u001b[?25l\u001b[?25hdone\n",
      "  Created wheel for qiskit: filename=qiskit-0.32.1-py3-none-any.whl size=11777 sha256=911365fec91e5c648d2569b156af429c0aff7c3d95d453a7d24e6bf8d7d1a315\n",
      "  Stored in directory: /root/.cache/pip/wheels/0f/62/0a/c53eda1ead41c137c47c9730bc2771a8367b1ce00fb64e8cc6\n",
      "  Building wheel for dlx (setup.py) ... \u001b[?25l\u001b[?25hdone\n",
      "  Created wheel for dlx: filename=dlx-1.0.4-py3-none-any.whl size=5718 sha256=cb913d8c2b19d87e8784f4220a02752c4858e3ebe531b0e80ab22c5625c1bd0b\n",
      "  Stored in directory: /root/.cache/pip/wheels/78/55/c8/dc61e772445a566b7608a476d151e9dcaf4e092b01b0c4bc3c\n",
      "  Building wheel for docplex (setup.py) ... \u001b[?25l\u001b[?25hdone\n",
      "  Created wheel for docplex: filename=docplex-2.22.213-py3-none-any.whl size=696882 sha256=192bab0a2587503608ce12a090c9f129f2a6b0e88f3a41e568c07ca585b4e3ff\n",
      "  Stored in directory: /root/.cache/pip/wheels/90/69/6b/1375c68a5b7ff94c40263b151c86f58bd72200bf0c465b5ba3\n",
      "  Building wheel for python-constraint (setup.py) ... \u001b[?25l\u001b[?25hdone\n",
      "  Created wheel for python-constraint: filename=python_constraint-1.4.0-py2.py3-none-any.whl size=24081 sha256=77684dcb7c666715267053a0114cf933c5c52cb7af9a30645de961f9af12c323\n",
      "  Stored in directory: /root/.cache/pip/wheels/07/27/db/1222c80eb1e431f3d2199c12569cb1cac60f562a451fe30479\n",
      "Successfully built qiskit dlx docplex python-constraint\n",
      "Installing collected packages: tweedledum, symengine, retworkx, python-constraint, ply, fastjsonschema, requests, qiskit-terra, ntlm-auth, lxml, inflection, cryptography, yfinance, websocket-client, requests-ntlm, quandl, qiskit-ignis, docplex, dlx, qiskit-ibmq-provider, qiskit-aqua, qiskit-aer, qiskit\n",
      "  Attempting uninstall: requests\n",
      "    Found existing installation: requests 2.23.0\n",
      "    Uninstalling requests-2.23.0:\n",
      "      Successfully uninstalled requests-2.23.0\n",
      "  Attempting uninstall: lxml\n",
      "    Found existing installation: lxml 4.2.6\n",
      "    Uninstalling lxml-4.2.6:\n",
      "      Successfully uninstalled lxml-4.2.6\n",
      "\u001b[31mERROR: pip's dependency resolver does not currently take into account all the packages that are installed. This behaviour is the source of the following dependency conflicts.\n",
      "google-colab 1.0.0 requires requests~=2.23.0, but you have requests 2.27.1 which is incompatible.\n",
      "datascience 0.10.6 requires folium==0.2.1, but you have folium 0.8.3 which is incompatible.\u001b[0m\n",
      "Successfully installed cryptography-36.0.1 dlx-1.0.4 docplex-2.22.213 fastjsonschema-2.15.3 inflection-0.5.1 lxml-4.7.1 ntlm-auth-1.5.0 ply-3.11 python-constraint-1.4.0 qiskit-0.32.1 qiskit-aer-0.9.1 qiskit-aqua-0.9.5 qiskit-ibmq-provider-0.18.1 qiskit-ignis-0.6.0 qiskit-terra-0.18.3 quandl-3.7.0 requests-2.27.1 requests-ntlm-1.1.0 retworkx-0.11.0 symengine-0.8.1 tweedledum-1.1.1 websocket-client-1.2.3 yfinance-0.1.70\n"
     ]
    }
   ],
   "source": [
    "!pip install qiskit==0.32.1"
   ]
  },
  {
   "cell_type": "markdown",
   "metadata": {
    "id": "F2-0UpluOIQl"
   },
   "source": [
    "Download and cd to the repo."
   ]
  },
  {
   "cell_type": "code",
   "execution_count": null,
   "metadata": {
    "colab": {
     "base_uri": "https://localhost:8080/"
    },
    "id": "6sNqLl9tjjAf",
    "outputId": "0521caf5-e275-4379-87f4-fdf3cce8cb5e"
   },
   "outputs": [
    {
     "name": "stdout",
     "output_type": "stream",
     "text": [
      "Cloning into 'torchquantum'...\n",
      "remote: Enumerating objects: 10737, done.\u001b[K\n",
      "remote: Counting objects: 100% (7529/7529), done.\u001b[K\n",
      "remote: Compressing objects: 100% (3777/3777), done.\u001b[K\n",
      "remote: Total 10737 (delta 3765), reused 7076 (delta 3348), pack-reused 3208\u001b[K\n",
      "Receiving objects: 100% (10737/10737), 3.19 MiB | 12.92 MiB/s, done.\n",
      "Resolving deltas: 100% (5732/5732), done.\n",
      "Checking out files: 100% (50055/50055), done.\n"
     ]
    }
   ],
   "source": [
    "!git clone https://github.com/mit-han-lab/torchquantum.git"
   ]
  },
  {
   "cell_type": "code",
   "execution_count": null,
   "metadata": {
    "colab": {
     "base_uri": "https://localhost:8080/"
    },
    "id": "0c2MCqFXjxkD",
    "outputId": "bde0ae24-ccf7-4d0f-d9fd-c45373d300ed"
   },
   "outputs": [
    {
     "name": "stdout",
     "output_type": "stream",
     "text": [
      "/content/torchquantum\n"
     ]
    }
   ],
   "source": [
    "%cd torchquantum"
   ]
  },
  {
   "cell_type": "markdown",
   "metadata": {
    "id": "PO1xLbaOOxWk"
   },
   "source": [
    "Install torch-quantum."
   ]
  },
  {
   "cell_type": "code",
   "execution_count": null,
   "metadata": {
    "colab": {
     "base_uri": "https://localhost:8080/"
    },
    "id": "3c6nfq3KkVXG",
    "outputId": "66d0d71e-9755-4db4-ccab-605afeeca03c"
   },
   "outputs": [
    {
     "name": "stdout",
     "output_type": "stream",
     "text": [
      "Obtaining file:///content/torchquantum\n",
      "Requirement already satisfied: numpy>=1.19.2 in /usr/local/lib/python3.7/dist-packages (from torchquantum==0.1.0) (1.21.5)\n",
      "Requirement already satisfied: torchvision>=0.9.0.dev20210130 in /usr/local/lib/python3.7/dist-packages (from torchquantum==0.1.0) (0.11.1+cu111)\n",
      "Requirement already satisfied: tqdm>=4.56.0 in /usr/local/lib/python3.7/dist-packages (from torchquantum==0.1.0) (4.62.3)\n",
      "Requirement already satisfied: setuptools>=52.0.0 in /usr/local/lib/python3.7/dist-packages (from torchquantum==0.1.0) (57.4.0)\n",
      "Requirement already satisfied: torch>=1.8.0 in /usr/local/lib/python3.7/dist-packages (from torchquantum==0.1.0) (1.10.0+cu111)\n",
      "Collecting torchpack>=0.3.0\n",
      "  Downloading torchpack-0.3.1-py3-none-any.whl (34 kB)\n",
      "Requirement already satisfied: qiskit>=0.32.0 in /usr/local/lib/python3.7/dist-packages (from torchquantum==0.1.0) (0.32.1)\n",
      "Collecting matplotlib>=3.3.2\n",
      "  Downloading matplotlib-3.5.1-cp37-cp37m-manylinux_2_5_x86_64.manylinux1_x86_64.whl (11.2 MB)\n",
      "\u001b[K     |████████████████████████████████| 11.2 MB 6.5 MB/s \n",
      "\u001b[?25hCollecting pathos>=0.2.7\n",
      "  Downloading pathos-0.2.8-py2.py3-none-any.whl (81 kB)\n",
      "\u001b[K     |████████████████████████████████| 81 kB 12.1 MB/s \n",
      "\u001b[?25hRequirement already satisfied: python-dateutil>=2.7 in /usr/local/lib/python3.7/dist-packages (from matplotlib>=3.3.2->torchquantum==0.1.0) (2.8.2)\n",
      "Requirement already satisfied: pyparsing>=2.2.1 in /usr/local/lib/python3.7/dist-packages (from matplotlib>=3.3.2->torchquantum==0.1.0) (3.0.7)\n",
      "Requirement already satisfied: cycler>=0.10 in /usr/local/lib/python3.7/dist-packages (from matplotlib>=3.3.2->torchquantum==0.1.0) (0.11.0)\n",
      "Collecting fonttools>=4.22.0\n",
      "  Downloading fonttools-4.29.1-py3-none-any.whl (895 kB)\n",
      "\u001b[K     |████████████████████████████████| 895 kB 55.2 MB/s \n",
      "\u001b[?25hRequirement already satisfied: pillow>=6.2.0 in /usr/local/lib/python3.7/dist-packages (from matplotlib>=3.3.2->torchquantum==0.1.0) (7.1.2)\n",
      "Requirement already satisfied: kiwisolver>=1.0.1 in /usr/local/lib/python3.7/dist-packages (from matplotlib>=3.3.2->torchquantum==0.1.0) (1.3.2)\n",
      "Requirement already satisfied: packaging>=20.0 in /usr/local/lib/python3.7/dist-packages (from matplotlib>=3.3.2->torchquantum==0.1.0) (21.3)\n",
      "Collecting ppft>=1.6.6.4\n",
      "  Downloading ppft-1.6.6.4-py3-none-any.whl (65 kB)\n",
      "\u001b[K     |████████████████████████████████| 65 kB 4.1 MB/s \n",
      "\u001b[?25hCollecting pox>=0.3.0\n",
      "  Downloading pox-0.3.0-py2.py3-none-any.whl (30 kB)\n",
      "Requirement already satisfied: multiprocess>=0.70.12 in /usr/local/lib/python3.7/dist-packages (from pathos>=0.2.7->torchquantum==0.1.0) (0.70.12.2)\n",
      "Requirement already satisfied: dill>=0.3.4 in /usr/local/lib/python3.7/dist-packages (from pathos>=0.2.7->torchquantum==0.1.0) (0.3.4)\n",
      "Requirement already satisfied: six>=1.7.3 in /usr/local/lib/python3.7/dist-packages (from ppft>=1.6.6.4->pathos>=0.2.7->torchquantum==0.1.0) (1.15.0)\n",
      "Requirement already satisfied: qiskit-ibmq-provider==0.18.1 in /usr/local/lib/python3.7/dist-packages (from qiskit>=0.32.0->torchquantum==0.1.0) (0.18.1)\n",
      "Requirement already satisfied: qiskit-aqua==0.9.5 in /usr/local/lib/python3.7/dist-packages (from qiskit>=0.32.0->torchquantum==0.1.0) (0.9.5)\n",
      "Requirement already satisfied: qiskit-aer==0.9.1 in /usr/local/lib/python3.7/dist-packages (from qiskit>=0.32.0->torchquantum==0.1.0) (0.9.1)\n",
      "Requirement already satisfied: qiskit-ignis==0.6.0 in /usr/local/lib/python3.7/dist-packages (from qiskit>=0.32.0->torchquantum==0.1.0) (0.6.0)\n",
      "Requirement already satisfied: qiskit-terra==0.18.3 in /usr/local/lib/python3.7/dist-packages (from qiskit>=0.32.0->torchquantum==0.1.0) (0.18.3)\n",
      "Requirement already satisfied: scipy>=1.0 in /usr/local/lib/python3.7/dist-packages (from qiskit-aer==0.9.1->qiskit>=0.32.0->torchquantum==0.1.0) (1.4.1)\n",
      "Requirement already satisfied: quandl in /usr/local/lib/python3.7/dist-packages (from qiskit-aqua==0.9.5->qiskit>=0.32.0->torchquantum==0.1.0) (3.7.0)\n",
      "Requirement already satisfied: scikit-learn>=0.20.0 in /usr/local/lib/python3.7/dist-packages (from qiskit-aqua==0.9.5->qiskit>=0.32.0->torchquantum==0.1.0) (1.0.2)\n",
      "Requirement already satisfied: pandas in /usr/local/lib/python3.7/dist-packages (from qiskit-aqua==0.9.5->qiskit>=0.32.0->torchquantum==0.1.0) (1.3.5)\n",
      "Requirement already satisfied: h5py<3.3.0 in /usr/local/lib/python3.7/dist-packages (from qiskit-aqua==0.9.5->qiskit>=0.32.0->torchquantum==0.1.0) (3.1.0)\n",
      "Requirement already satisfied: fastdtw<=0.3.4 in /usr/local/lib/python3.7/dist-packages (from qiskit-aqua==0.9.5->qiskit>=0.32.0->torchquantum==0.1.0) (0.3.4)\n",
      "Requirement already satisfied: dlx<=1.0.4 in /usr/local/lib/python3.7/dist-packages (from qiskit-aqua==0.9.5->qiskit>=0.32.0->torchquantum==0.1.0) (1.0.4)\n",
      "Requirement already satisfied: retworkx>=0.8.0 in /usr/local/lib/python3.7/dist-packages (from qiskit-aqua==0.9.5->qiskit>=0.32.0->torchquantum==0.1.0) (0.11.0)\n",
      "Requirement already satisfied: sympy>=1.3 in /usr/local/lib/python3.7/dist-packages (from qiskit-aqua==0.9.5->qiskit>=0.32.0->torchquantum==0.1.0) (1.7.1)\n",
      "Requirement already satisfied: docplex>=2.21.207 in /usr/local/lib/python3.7/dist-packages (from qiskit-aqua==0.9.5->qiskit>=0.32.0->torchquantum==0.1.0) (2.22.213)\n",
      "Requirement already satisfied: yfinance>=0.1.62 in /usr/local/lib/python3.7/dist-packages (from qiskit-aqua==0.9.5->qiskit>=0.32.0->torchquantum==0.1.0) (0.1.70)\n",
      "Requirement already satisfied: psutil>=5 in /usr/local/lib/python3.7/dist-packages (from qiskit-aqua==0.9.5->qiskit>=0.32.0->torchquantum==0.1.0) (5.4.8)\n",
      "Requirement already satisfied: urllib3>=1.21.1 in /usr/local/lib/python3.7/dist-packages (from qiskit-ibmq-provider==0.18.1->qiskit>=0.32.0->torchquantum==0.1.0) (1.24.3)\n",
      "Requirement already satisfied: requests-ntlm>=1.1.0 in /usr/local/lib/python3.7/dist-packages (from qiskit-ibmq-provider==0.18.1->qiskit>=0.32.0->torchquantum==0.1.0) (1.1.0)\n",
      "Requirement already satisfied: websocket-client>=1.0.1 in /usr/local/lib/python3.7/dist-packages (from qiskit-ibmq-provider==0.18.1->qiskit>=0.32.0->torchquantum==0.1.0) (1.2.3)\n",
      "Requirement already satisfied: requests>=2.19 in /usr/local/lib/python3.7/dist-packages (from qiskit-ibmq-provider==0.18.1->qiskit>=0.32.0->torchquantum==0.1.0) (2.27.1)\n",
      "Requirement already satisfied: symengine>0.7 in /usr/local/lib/python3.7/dist-packages (from qiskit-terra==0.18.3->qiskit>=0.32.0->torchquantum==0.1.0) (0.8.1)\n",
      "Requirement already satisfied: fastjsonschema>=2.10 in /usr/local/lib/python3.7/dist-packages (from qiskit-terra==0.18.3->qiskit>=0.32.0->torchquantum==0.1.0) (2.15.3)\n",
      "Requirement already satisfied: ply>=3.10 in /usr/local/lib/python3.7/dist-packages (from qiskit-terra==0.18.3->qiskit>=0.32.0->torchquantum==0.1.0) (3.11)\n",
      "Requirement already satisfied: python-constraint>=1.4 in /usr/local/lib/python3.7/dist-packages (from qiskit-terra==0.18.3->qiskit>=0.32.0->torchquantum==0.1.0) (1.4.0)\n",
      "Requirement already satisfied: jsonschema>=2.6 in /usr/local/lib/python3.7/dist-packages (from qiskit-terra==0.18.3->qiskit>=0.32.0->torchquantum==0.1.0) (4.3.3)\n",
      "Requirement already satisfied: tweedledum<2.0,>=1.1 in /usr/local/lib/python3.7/dist-packages (from qiskit-terra==0.18.3->qiskit>=0.32.0->torchquantum==0.1.0) (1.1.1)\n",
      "Requirement already satisfied: cached-property in /usr/local/lib/python3.7/dist-packages (from h5py<3.3.0->qiskit-aqua==0.9.5->qiskit>=0.32.0->torchquantum==0.1.0) (1.5.2)\n",
      "Requirement already satisfied: attrs>=17.4.0 in /usr/local/lib/python3.7/dist-packages (from jsonschema>=2.6->qiskit-terra==0.18.3->qiskit>=0.32.0->torchquantum==0.1.0) (21.4.0)\n",
      "Requirement already satisfied: importlib-metadata in /usr/local/lib/python3.7/dist-packages (from jsonschema>=2.6->qiskit-terra==0.18.3->qiskit>=0.32.0->torchquantum==0.1.0) (4.11.0)\n",
      "Requirement already satisfied: importlib-resources>=1.4.0 in /usr/local/lib/python3.7/dist-packages (from jsonschema>=2.6->qiskit-terra==0.18.3->qiskit>=0.32.0->torchquantum==0.1.0) (5.4.0)\n",
      "Requirement already satisfied: pyrsistent!=0.17.0,!=0.17.1,!=0.17.2,>=0.14.0 in /usr/local/lib/python3.7/dist-packages (from jsonschema>=2.6->qiskit-terra==0.18.3->qiskit>=0.32.0->torchquantum==0.1.0) (0.18.1)\n",
      "Requirement already satisfied: typing-extensions in /usr/local/lib/python3.7/dist-packages (from jsonschema>=2.6->qiskit-terra==0.18.3->qiskit>=0.32.0->torchquantum==0.1.0) (3.10.0.2)\n",
      "Requirement already satisfied: zipp>=3.1.0 in /usr/local/lib/python3.7/dist-packages (from importlib-resources>=1.4.0->jsonschema>=2.6->qiskit-terra==0.18.3->qiskit>=0.32.0->torchquantum==0.1.0) (3.7.0)\n",
      "Requirement already satisfied: idna<4,>=2.5 in /usr/local/lib/python3.7/dist-packages (from requests>=2.19->qiskit-ibmq-provider==0.18.1->qiskit>=0.32.0->torchquantum==0.1.0) (2.10)\n",
      "Requirement already satisfied: charset-normalizer~=2.0.0 in /usr/local/lib/python3.7/dist-packages (from requests>=2.19->qiskit-ibmq-provider==0.18.1->qiskit>=0.32.0->torchquantum==0.1.0) (2.0.11)\n",
      "Requirement already satisfied: certifi>=2017.4.17 in /usr/local/lib/python3.7/dist-packages (from requests>=2.19->qiskit-ibmq-provider==0.18.1->qiskit>=0.32.0->torchquantum==0.1.0) (2021.10.8)\n",
      "Requirement already satisfied: cryptography>=1.3 in /usr/local/lib/python3.7/dist-packages (from requests-ntlm>=1.1.0->qiskit-ibmq-provider==0.18.1->qiskit>=0.32.0->torchquantum==0.1.0) (36.0.1)\n",
      "Requirement already satisfied: ntlm-auth>=1.0.2 in /usr/local/lib/python3.7/dist-packages (from requests-ntlm>=1.1.0->qiskit-ibmq-provider==0.18.1->qiskit>=0.32.0->torchquantum==0.1.0) (1.5.0)\n",
      "Requirement already satisfied: cffi>=1.12 in /usr/local/lib/python3.7/dist-packages (from cryptography>=1.3->requests-ntlm>=1.1.0->qiskit-ibmq-provider==0.18.1->qiskit>=0.32.0->torchquantum==0.1.0) (1.15.0)\n",
      "Requirement already satisfied: pycparser in /usr/local/lib/python3.7/dist-packages (from cffi>=1.12->cryptography>=1.3->requests-ntlm>=1.1.0->qiskit-ibmq-provider==0.18.1->qiskit>=0.32.0->torchquantum==0.1.0) (2.21)\n",
      "Requirement already satisfied: joblib>=0.11 in /usr/local/lib/python3.7/dist-packages (from scikit-learn>=0.20.0->qiskit-aqua==0.9.5->qiskit>=0.32.0->torchquantum==0.1.0) (1.1.0)\n",
      "Requirement already satisfied: threadpoolctl>=2.0.0 in /usr/local/lib/python3.7/dist-packages (from scikit-learn>=0.20.0->qiskit-aqua==0.9.5->qiskit>=0.32.0->torchquantum==0.1.0) (3.1.0)\n",
      "Requirement already satisfied: mpmath>=0.19 in /usr/local/lib/python3.7/dist-packages (from sympy>=1.3->qiskit-aqua==0.9.5->qiskit>=0.32.0->torchquantum==0.1.0) (1.2.1)\n",
      "Requirement already satisfied: tensorboard in /usr/local/lib/python3.7/dist-packages (from torchpack>=0.3.0->torchquantum==0.1.0) (2.8.0)\n",
      "Collecting toml\n",
      "  Downloading toml-0.10.2-py2.py3-none-any.whl (16 kB)\n",
      "Collecting tensorpack\n",
      "  Downloading tensorpack-0.11-py2.py3-none-any.whl (296 kB)\n",
      "\u001b[K     |████████████████████████████████| 296 kB 57.1 MB/s \n",
      "\u001b[?25hCollecting multimethod\n",
      "  Downloading multimethod-1.7-py3-none-any.whl (9.5 kB)\n",
      "Collecting loguru\n",
      "  Downloading loguru-0.6.0-py3-none-any.whl (58 kB)\n",
      "\u001b[K     |████████████████████████████████| 58 kB 2.6 MB/s \n",
      "\u001b[?25hRequirement already satisfied: pyyaml in /usr/local/lib/python3.7/dist-packages (from torchpack>=0.3.0->torchquantum==0.1.0) (3.13)\n",
      "Requirement already satisfied: multitasking>=0.0.7 in /usr/local/lib/python3.7/dist-packages (from yfinance>=0.1.62->qiskit-aqua==0.9.5->qiskit>=0.32.0->torchquantum==0.1.0) (0.0.10)\n",
      "Requirement already satisfied: lxml>=4.5.1 in /usr/local/lib/python3.7/dist-packages (from yfinance>=0.1.62->qiskit-aqua==0.9.5->qiskit>=0.32.0->torchquantum==0.1.0) (4.7.1)\n",
      "Requirement already satisfied: pytz>=2017.3 in /usr/local/lib/python3.7/dist-packages (from pandas->qiskit-aqua==0.9.5->qiskit>=0.32.0->torchquantum==0.1.0) (2018.9)\n",
      "Requirement already satisfied: more-itertools in /usr/local/lib/python3.7/dist-packages (from quandl->qiskit-aqua==0.9.5->qiskit>=0.32.0->torchquantum==0.1.0) (8.12.0)\n",
      "Requirement already satisfied: inflection>=0.3.1 in /usr/local/lib/python3.7/dist-packages (from quandl->qiskit-aqua==0.9.5->qiskit>=0.32.0->torchquantum==0.1.0) (0.5.1)\n",
      "Requirement already satisfied: markdown>=2.6.8 in /usr/local/lib/python3.7/dist-packages (from tensorboard->torchpack>=0.3.0->torchquantum==0.1.0) (3.3.6)\n",
      "Requirement already satisfied: tensorboard-plugin-wit>=1.6.0 in /usr/local/lib/python3.7/dist-packages (from tensorboard->torchpack>=0.3.0->torchquantum==0.1.0) (1.8.1)\n",
      "Requirement already satisfied: absl-py>=0.4 in /usr/local/lib/python3.7/dist-packages (from tensorboard->torchpack>=0.3.0->torchquantum==0.1.0) (1.0.0)\n",
      "Requirement already satisfied: grpcio>=1.24.3 in /usr/local/lib/python3.7/dist-packages (from tensorboard->torchpack>=0.3.0->torchquantum==0.1.0) (1.43.0)\n",
      "Requirement already satisfied: wheel>=0.26 in /usr/local/lib/python3.7/dist-packages (from tensorboard->torchpack>=0.3.0->torchquantum==0.1.0) (0.37.1)\n",
      "Requirement already satisfied: google-auth-oauthlib<0.5,>=0.4.1 in /usr/local/lib/python3.7/dist-packages (from tensorboard->torchpack>=0.3.0->torchquantum==0.1.0) (0.4.6)\n",
      "Requirement already satisfied: google-auth<3,>=1.6.3 in /usr/local/lib/python3.7/dist-packages (from tensorboard->torchpack>=0.3.0->torchquantum==0.1.0) (1.35.0)\n",
      "Requirement already satisfied: tensorboard-data-server<0.7.0,>=0.6.0 in /usr/local/lib/python3.7/dist-packages (from tensorboard->torchpack>=0.3.0->torchquantum==0.1.0) (0.6.1)\n",
      "Requirement already satisfied: werkzeug>=0.11.15 in /usr/local/lib/python3.7/dist-packages (from tensorboard->torchpack>=0.3.0->torchquantum==0.1.0) (1.0.1)\n",
      "Requirement already satisfied: protobuf>=3.6.0 in /usr/local/lib/python3.7/dist-packages (from tensorboard->torchpack>=0.3.0->torchquantum==0.1.0) (3.17.3)\n",
      "Requirement already satisfied: pyasn1-modules>=0.2.1 in /usr/local/lib/python3.7/dist-packages (from google-auth<3,>=1.6.3->tensorboard->torchpack>=0.3.0->torchquantum==0.1.0) (0.2.8)\n",
      "Requirement already satisfied: cachetools<5.0,>=2.0.0 in /usr/local/lib/python3.7/dist-packages (from google-auth<3,>=1.6.3->tensorboard->torchpack>=0.3.0->torchquantum==0.1.0) (4.2.4)\n",
      "Requirement already satisfied: rsa<5,>=3.1.4 in /usr/local/lib/python3.7/dist-packages (from google-auth<3,>=1.6.3->tensorboard->torchpack>=0.3.0->torchquantum==0.1.0) (4.8)\n",
      "Requirement already satisfied: requests-oauthlib>=0.7.0 in /usr/local/lib/python3.7/dist-packages (from google-auth-oauthlib<0.5,>=0.4.1->tensorboard->torchpack>=0.3.0->torchquantum==0.1.0) (1.3.1)\n",
      "Requirement already satisfied: pyasn1<0.5.0,>=0.4.6 in /usr/local/lib/python3.7/dist-packages (from pyasn1-modules>=0.2.1->google-auth<3,>=1.6.3->tensorboard->torchpack>=0.3.0->torchquantum==0.1.0) (0.4.8)\n",
      "Requirement already satisfied: oauthlib>=3.0.0 in /usr/local/lib/python3.7/dist-packages (from requests-oauthlib>=0.7.0->google-auth-oauthlib<0.5,>=0.4.1->tensorboard->torchpack>=0.3.0->torchquantum==0.1.0) (3.2.0)\n",
      "Requirement already satisfied: msgpack>=0.5.2 in /usr/local/lib/python3.7/dist-packages (from tensorpack->torchpack>=0.3.0->torchquantum==0.1.0) (1.0.3)\n",
      "Requirement already satisfied: pyzmq>=16 in /usr/local/lib/python3.7/dist-packages (from tensorpack->torchpack>=0.3.0->torchquantum==0.1.0) (22.3.0)\n",
      "Collecting msgpack-numpy>=0.4.4.2\n",
      "  Downloading msgpack_numpy-0.4.7.1-py2.py3-none-any.whl (6.7 kB)\n",
      "Requirement already satisfied: tabulate>=0.7.7 in /usr/local/lib/python3.7/dist-packages (from tensorpack->torchpack>=0.3.0->torchquantum==0.1.0) (0.8.9)\n",
      "Requirement already satisfied: termcolor>=1.1 in /usr/local/lib/python3.7/dist-packages (from tensorpack->torchpack>=0.3.0->torchquantum==0.1.0) (1.1.0)\n",
      "Installing collected packages: msgpack-numpy, toml, tensorpack, ppft, pox, multimethod, loguru, fonttools, torchpack, pathos, matplotlib, torchquantum\n",
      "  Attempting uninstall: matplotlib\n",
      "    Found existing installation: matplotlib 3.2.2\n",
      "    Uninstalling matplotlib-3.2.2:\n",
      "      Successfully uninstalled matplotlib-3.2.2\n",
      "  Running setup.py develop for torchquantum\n",
      "\u001b[31mERROR: pip's dependency resolver does not currently take into account all the packages that are installed. This behaviour is the source of the following dependency conflicts.\n",
      "albumentations 0.1.12 requires imgaug<0.2.7,>=0.2.5, but you have imgaug 0.2.9 which is incompatible.\u001b[0m\n",
      "Successfully installed fonttools-4.29.1 loguru-0.6.0 matplotlib-3.5.1 msgpack-numpy-0.4.7.1 multimethod-1.7 pathos-0.2.8 pox-0.3.0 ppft-1.6.6.4 tensorpack-0.11 toml-0.10.2 torchpack-0.3.1 torchquantum-0.1.0\n"
     ]
    },
    {
     "data": {
      "application/vnd.colab-display-data+json": {
       "pip_warning": {
        "packages": [
         "matplotlib",
         "mpl_toolkits"
        ]
       }
      }
     },
     "metadata": {},
     "output_type": "display_data"
    }
   ],
   "source": [
    "!pip install --editable ."
   ]
  },
  {
   "cell_type": "markdown",
   "metadata": {
    "id": "18tqleq4O3cX"
   },
   "source": [
    "Change PYTHONPATH and install other packages."
   ]
  },
  {
   "cell_type": "code",
   "execution_count": null,
   "metadata": {
    "colab": {
     "base_uri": "https://localhost:8080/"
    },
    "id": "d7ZPp7FikrZz",
    "outputId": "514f9e33-cc82-4ca8-daad-63c7971bd78d"
   },
   "outputs": [
    {
     "name": "stdout",
     "output_type": "stream",
     "text": [
      "env: PYTHONPATH=.\n"
     ]
    }
   ],
   "source": [
    "%env PYTHONPATH=."
   ]
  },
  {
   "cell_type": "markdown",
   "metadata": {
    "id": "rhsBhV23PD4g"
   },
   "source": [
    "Run the following code to store a qiskit token. You can replace it with your own token from your IBMQ account if you like.\n",
    "\n"
   ]
  },
  {
   "cell_type": "code",
   "execution_count": null,
   "metadata": {
    "id": "Iw9rQ6dcnrhe"
   },
   "outputs": [],
   "source": [
    "from qiskit import IBMQ\n",
    "# IBMQ.save_account('', overwrite=True)"
   ]
  },
  {
   "cell_type": "code",
   "execution_count": null,
   "metadata": {
    "colab": {
     "base_uri": "https://localhost:8080/"
    },
    "id": "Nvn9EkRH5fTs",
    "outputId": "9dc223b4-acbf-4fcc-9dc9-dd772d71eecc"
   },
   "outputs": [
    {
     "name": "stdout",
     "output_type": "stream",
     "text": [
      "Collecting matplotlib==3.1.3\n",
      "  Downloading matplotlib-3.1.3-cp37-cp37m-manylinux1_x86_64.whl (13.1 MB)\n",
      "\u001b[K     |████████████████████████████████| 13.1 MB 4.3 MB/s \n",
      "\u001b[?25hRequirement already satisfied: pyparsing!=2.0.4,!=2.1.2,!=2.1.6,>=2.0.1 in /usr/local/lib/python3.7/dist-packages (from matplotlib==3.1.3) (3.0.7)\n",
      "Requirement already satisfied: numpy>=1.11 in /usr/local/lib/python3.7/dist-packages (from matplotlib==3.1.3) (1.21.5)\n",
      "Requirement already satisfied: cycler>=0.10 in /usr/local/lib/python3.7/dist-packages (from matplotlib==3.1.3) (0.11.0)\n",
      "Requirement already satisfied: python-dateutil>=2.1 in /usr/local/lib/python3.7/dist-packages (from matplotlib==3.1.3) (2.8.2)\n",
      "Requirement already satisfied: kiwisolver>=1.0.1 in /usr/local/lib/python3.7/dist-packages (from matplotlib==3.1.3) (1.3.2)\n",
      "Requirement already satisfied: six>=1.5 in /usr/local/lib/python3.7/dist-packages (from python-dateutil>=2.1->matplotlib==3.1.3) (1.15.0)\n",
      "Installing collected packages: matplotlib\n",
      "  Attempting uninstall: matplotlib\n",
      "    Found existing installation: matplotlib 3.5.1\n",
      "    Uninstalling matplotlib-3.5.1:\n",
      "      Successfully uninstalled matplotlib-3.5.1\n",
      "\u001b[31mERROR: pip's dependency resolver does not currently take into account all the packages that are installed. This behaviour is the source of the following dependency conflicts.\n",
      "torchquantum 0.1.0 requires matplotlib>=3.3.2, but you have matplotlib 3.1.3 which is incompatible.\n",
      "albumentations 0.1.12 requires imgaug<0.2.7,>=0.2.5, but you have imgaug 0.2.9 which is incompatible.\u001b[0m\n",
      "Successfully installed matplotlib-3.1.3\n"
     ]
    },
    {
     "data": {
      "application/vnd.colab-display-data+json": {
       "pip_warning": {
        "packages": [
         "matplotlib",
         "mpl_toolkits"
        ]
       }
      }
     },
     "metadata": {},
     "output_type": "display_data"
    }
   ],
   "source": [
    "!pip install matplotlib==3.1.3"
   ]
  },
  {
   "cell_type": "markdown",
   "metadata": {
    "id": "-42mdL8CG5Vi"
   },
   "source": [
    "### Step\n",
    "Our code requires torchquantum lib, mnist dataset, pytorch and numpy. We need torch and the logsoftmax function from `torch.nn.functional`, optimizers(`optim`), `torchquantum` module, MNIST dataset(`MNIST`), cosine annealing learning rate(`CosineAnnealingLR`).\n"
   ]
  },
  {
   "cell_type": "code",
   "execution_count": 1,
   "metadata": {
    "id": "N5acspJ8G1n3"
   },
   "outputs": [],
   "source": [
    "import torch\n",
    "import torch.nn.functional as F\n",
    "import torch.optim as optim\n",
    "import numpy as np\n",
    "\n",
    "import torchquantum as tq\n",
    "import random\n",
    "\n",
    "from torchquantum.dataset import MNIST\n",
    "from torch.optim.lr_scheduler import CosineAnnealingLR"
   ]
  },
  {
   "cell_type": "markdown",
   "metadata": {
    "id": "QiOV-xIGKXVK"
   },
   "source": [
    "### Build a quanvolutional filter\n",
    "Our quanvolution model is a hybrid model. It consists of two parts, the quanvolutional filter part and the classical layer part. To build the model, firstly we define our quanvolutional filter.\n",
    "\n",
    "Our quanvolutional filter’s structure is the same as the figure described above. It has four qubits. The `tq.QuantumDevice` module stores the state vector. Usually a Quantum Neural Network module consists of three parts: encoder, ansatz and measurement. We can create an encoder by passing a list of gates to `tq.GeneralEncoder`. Each entry in the list contains `input_idx`, `func`, and `wires`. Here, each qubit has a rotation-Y gate. 4 RY gates in total. They can encode the 2x2 input data to the quantum state. Then we decide our ansatz to be a random layer. We call `tq.RandomLayer` to create an ansatz composed by 8 basic gates with no more than 8 trainable parameters. And finally we perform Pauli-Z measurements on each qubit by creating a `tq.MeasureAll` module and passing `tq.PauliZ` to it. The measure function will return four expectation values from four qubits. The four results go to four channels.\n",
    "\n",
    "Next look at how quanvolutional filter works. We get the batch size. Our image is 28x28. So we reshape our input data to `(bsz, 28, 28)`.\n",
    "\n",
    "We initialize the `data_list`. The list stores the outputs in each stride.\n",
    "\n",
    "The double loop is to iterate all the possible positions that the quanvolutional filter window may stride in. Here the stride is 2.\n",
    "\n",
    "Then we catenate the data in the 2x2 window. Here we catenate four lists to one big list, so we need to reshape the list to `(4, bsz)` and transpose it to `(bsz, 4)`.\n",
    "\n",
    "Next if you want to use qiskit’s remote noise model or real quantum machine, you can set `use_qiskit=True` and pass these 5 parameters: `q_device`, `encoder`, `q_layer`, `measure`, and `data`. The `qiskit_processor` will receive these parameters, put the data in the encoder, run the while circuits and return the measurement result. Remember only when the model is doing an inference can you use qiskit remote.\n",
    "\n",
    "If you are training or not using qiskit remote, you can run the three parts one by one on google colab’s GPU.\n",
    "\n",
    "After each stride, we append the measurement result to `data_list`.\n",
    "\n",
    "Finally, we catenate the `data_list` along dimension 1 and return the result.\n"
   ]
  },
  {
   "cell_type": "code",
   "execution_count": 2,
   "metadata": {
    "id": "iBnWI5yqKfMB"
   },
   "outputs": [],
   "source": [
    "\n",
    "class QuanvolutionFilter(tq.QuantumModule):\n",
    "    def __init__(self):\n",
    "        super().__init__()\n",
    "        self.n_wires = 4\n",
    "        self.encoder = tq.GeneralEncoder(\n",
    "            [\n",
    "                {\"input_idx\": [0], \"func\": \"ry\", \"wires\": [0]},\n",
    "                {\"input_idx\": [1], \"func\": \"ry\", \"wires\": [1]},\n",
    "                {\"input_idx\": [2], \"func\": \"ry\", \"wires\": [2]},\n",
    "                {\"input_idx\": [3], \"func\": \"ry\", \"wires\": [3]},\n",
    "            ]\n",
    "        )\n",
    "\n",
    "        self.q_layer = tq.RandomLayer(n_ops=8, wires=list(range(self.n_wires)))\n",
    "        self.measure = tq.MeasureAll(tq.PauliZ)\n",
    "\n",
    "    def forward(self, x, use_qiskit=False):\n",
    "        bsz = x.shape[0]\n",
    "        qdev = tq.QuantumDevice(self.n_wires, bsz=bsz, device=x.device)\n",
    "        size = 28\n",
    "        x = x.view(bsz, size, size)\n",
    "\n",
    "        data_list = []\n",
    "\n",
    "        for c in range(0, size, 2):\n",
    "            for r in range(0, size, 2):\n",
    "                data = torch.transpose(\n",
    "                    torch.cat(\n",
    "                        (x[:, c, r], x[:, c, r + 1], x[:, c + 1, r], x[:, c + 1, r + 1])\n",
    "                    ).view(4, bsz),\n",
    "                    0,\n",
    "                    1,\n",
    "                )\n",
    "                if use_qiskit:\n",
    "                    data = self.qiskit_processor.process_parameterized(\n",
    "                        qdev, self.encoder, self.q_layer, self.measure, data\n",
    "                    )\n",
    "                else:\n",
    "                    self.encoder(qdev, data)\n",
    "                    self.q_layer(qdev)\n",
    "                    data = self.measure(qdev)\n",
    "\n",
    "                data_list.append(data.view(bsz, 4))\n",
    "\n",
    "        result = torch.cat(data_list, dim=1).float()\n",
    "\n",
    "        return result"
   ]
  },
  {
   "cell_type": "markdown",
   "metadata": {
    "id": "KpVfJUezK7ny"
   },
   "source": [
    "### Build the whole hybrid model.\n",
    "\n",
    "Then we look at the whole model. The whole model consists of a `QuanvolutionFilter` and full connect layer(`torch.nn.Linear`). The size of input is 4\\*14\\*14 because a 28x28 image after quanvolutional filter turns into a 4 channel 14x14 feature. As the task is MNIST 10 digits classification, the size of output is 10. At last the model perform `F.logsoftmax` to the result for classification.\n",
    "\n",
    "<div align=\"center\">\n",
    "<img src=\"https://github.com/mit-han-lab/torchquantum/blob/master/figs/hybridmodel.png?raw=true\" alt=\"conv-full-layer\" width=\"800\">\n",
    "</div>\n",
    "\n",
    "Here, we also has a model without quanvolutional filters used for comparison. Its full connect layer’s input size is simple 28x28.\n",
    "\n",
    "<div align=\"center\">\n",
    "<img src=\"https://github.com/mit-han-lab/torchquantum/blob/master/figs/classicalmodel.png?raw=true\" alt=\"conv-full-layer\" width=\"400\">\n",
    "</div>"
   ]
  },
  {
   "cell_type": "code",
   "execution_count": 3,
   "metadata": {
    "id": "UbhzYiGcK9xk"
   },
   "outputs": [],
   "source": [
    "class HybridModel(torch.nn.Module):\n",
    "    def __init__(self):\n",
    "        super().__init__()\n",
    "        self.qf = QuanvolutionFilter()\n",
    "        self.linear = torch.nn.Linear(4*14*14, 10)\n",
    "    \n",
    "    def forward(self, x, use_qiskit=False):\n",
    "        with torch.no_grad():\n",
    "          x = self.qf(x, use_qiskit)\n",
    "        x = self.linear(x)\n",
    "        return F.log_softmax(x, -1)\n",
    "\n",
    "class HybridModel_without_qf(torch.nn.Module):\n",
    "    def __init__(self):\n",
    "        super().__init__()\n",
    "        self.linear = torch.nn.Linear(28*28, 10)\n",
    "    \n",
    "    def forward(self, x, use_qiskit=False):\n",
    "        x = x.view(-1, 28*28)\n",
    "        x = self.linear(x)\n",
    "        return F.log_softmax(x, -1)"
   ]
  },
  {
   "cell_type": "markdown",
   "metadata": {
    "id": "AXwEp5SILF_Z"
   },
   "source": [
    "### Load the dataset MNIST\n",
    "We use MNIST classification dataset(10 digits and 1000 training samples).\n",
    "\n",
    "The `root` is the folder that stores the dataset. If there’s no MNIST dataset in root, it will automatically download MNIST.\n",
    "Next, we set the `train_valid_split_ratio`, `n_test_samples`, and `n_train_samples`.\n",
    "\n",
    "The dataset now contains three splits, 'train', 'valid' and 'test'. For each split, we create a dataloader with a random sampler, `batch_size` is 10, `num_workers` is 8 and `pin_memory` is true."
   ]
  },
  {
   "cell_type": "code",
   "execution_count": 4,
   "metadata": {
    "colab": {
     "base_uri": "https://localhost:8080/",
     "height": 512,
     "referenced_widgets": [
      "ddcca6cc591f45a887f80bcc5d27ce13",
      "c8c570bdf96340c1bbf4e612f3d0c3c4",
      "30b8e4960e564891ad81ac242c228b25",
      "c46454929cae4e89976f42d9bc391a94",
      "ace3e747ccfd4f9f9faf46ce34936ce1",
      "d274e40c0adb4d3e80e8d1cf5ad475ee",
      "a8e8fb1c355445698cbc828dddffb9e5",
      "d312e5166b28438da2b9e91de91f0e09",
      "dc961678433f488babca027e197d2aa1",
      "5335eb0e67f84c85b9efacc7793d24fd",
      "34e1a2b9f934411090026a0ee98a3b5b",
      "23dbd6346f684afebcc4ea0d3e72a67e",
      "e85d5726a566462e962baa75f32074d6",
      "3b090dcf208c4822892a0afc2ba2e6a9",
      "d0a2f52a311541a686f592a985e1aac0",
      "41e329d1bd764c7cad4d2e834df50cd9",
      "5de520efee524ca28ed5b1b42861bef7",
      "b6d2f65a2e644523b7ecc6e3e9e17de3",
      "4abe9a5443514e00a536c839a9a5e04d",
      "b2ca643df597463dad1d5efe8abf64c4",
      "c168c7416db742f5bc74d45fe4a9bf05",
      "26d0390ad17048799741582271721a3e",
      "f314f3212d8f49468ccce3ad1cb8af6e",
      "694229176eb84488811763e57ccdbd9f",
      "32bd67ddf3a44b879cb123aa797627c0",
      "237d834d5fd74efa947683722d3e0e37",
      "29be09a9c5344928a9d2dda75ed8680c",
      "7584295a605c4a99a4dccce31be4cb2d",
      "e81b4f6589d649758fd2cd18da8ab35f",
      "f86c7ffecc394345a4eeb587cfd404d1",
      "c893fabe4af6410d837a0bd191df61d9",
      "f69883e80817409c9a10a2ec6d6ef68c",
      "45f166ea914e49c5bcf2ec39a649e351",
      "ae65786c8b1e4e789ecb72bcd6b9b211",
      "cfc67a5bebd247838d29b9babacbc103",
      "5953a85cd7334c828cf5005b2807fa41",
      "952170c8ff4d4fa9b7141d372b35cdd1",
      "7cbce63b72c843e9ad824dce59a7e2fb",
      "18acae4757154a10a7e2b9ebe4fbd53b",
      "364f865b5e334ac6add27ef1a32b8173",
      "e2b60171e7ca45bea357831419d2f9c6",
      "3f37e8639ddd4a6eac44420ce3275cd7",
      "1c75908cdb0d4909a266ef3f0184c13d",
      "393cc69622f3428fba3e10886e5ab65d"
     ]
    },
    "id": "taGjJMVcLN2L",
    "outputId": "3b8c1fcd-ade1-4530-d104-36b76b1341f7"
   },
   "outputs": [
    {
     "name": "stdout",
     "output_type": "stream",
     "text": [
      "\u001b[32m[2024-03-19 18:25:02.126]\u001b[0m \u001b[33m\u001b[1mOnly use the front 500 images as TRAIN set.\u001b[0m\n",
      "\u001b[32m[2024-03-19 18:25:02.172]\u001b[0m \u001b[33m\u001b[1mOnly use the front 300 images as TEST set.\u001b[0m\n"
     ]
    }
   ],
   "source": [
    "random.seed(42)\n",
    "np.random.seed(42)\n",
    "torch.manual_seed(42)\n",
    "dataset = MNIST(\n",
    "    root='./mnist_data',\n",
    "    train_valid_split_ratio=[0.9, 0.1],\n",
    "    n_test_samples=300,\n",
    "    n_train_samples=500,\n",
    ")\n",
    "dataflow = dict()\n",
    "\n",
    "for split in dataset:\n",
    "    sampler = torch.utils.data.RandomSampler(dataset[split])\n",
    "    dataflow[split] = torch.utils.data.DataLoader(\n",
    "        dataset[split],\n",
    "        batch_size=10,\n",
    "        sampler=sampler,\n",
    "        num_workers=8,\n",
    "        pin_memory=True)"
   ]
  },
  {
   "cell_type": "markdown",
   "metadata": {
    "id": "LpxOsZrRLUal"
   },
   "source": [
    "Then we set use_cuda, it depends on whether cuda is available.\n",
    "\n",
    "Create a device.\n",
    "\n",
    "Initialize the model, `n_epochs` to 15, Adam optimizer and cosine annealing learning rate scheduler.\n",
    "\n"
   ]
  },
  {
   "cell_type": "code",
   "execution_count": 5,
   "metadata": {
    "id": "cmzcsyaCLZf_"
   },
   "outputs": [],
   "source": [
    "use_cuda = torch.cuda.is_available()\n",
    "device = torch.device(\"cuda\" if use_cuda else \"cpu\")\n",
    "model = HybridModel().to(device)\n",
    "model_without_qf = HybridModel_without_qf().to(device)\n",
    "n_epochs = 15\n",
    "optimizer = optim.Adam(model.parameters(), lr=5e-3, weight_decay=1e-4)\n",
    "scheduler = CosineAnnealingLR(optimizer, T_max=n_epochs)"
   ]
  },
  {
   "cell_type": "markdown",
   "metadata": {
    "id": "ckdg6zccLwF3"
   },
   "source": [
    "### Train the model.\n",
    "\n",
    "When training the model, we iterate the dataloader. Get the\t`inputs` and `targets` data. Feed `inputs` to the model and get `outputs`. Calculate the negative loss likelihood loss(`F.nll_loss`). Reset all the gradients of parameters in the model to zero. Call `loss.backward()` to perform backpropagation. Call `optimizer.step()` to update all the parameters.\n",
    "\n",
    "After each epoch, we will valid the model. In validation, we can use qiskit remote because we don’t need to calculate gradients.\n"
   ]
  },
  {
   "cell_type": "code",
   "execution_count": null,
   "metadata": {
    "colab": {
     "base_uri": "https://localhost:8080/"
    },
    "id": "xS7zGXVDLwuY",
    "outputId": "f7d7feb2-f4f7-447a-fb21-b39d2791cfa6"
   },
   "outputs": [
    {
     "name": "stdout",
     "output_type": "stream",
     "text": [
      "Epoch 1:\n",
      "0.005 2.0805411338806152\n",
      "test set accuracy: 0.32\n",
      "test set loss: 2.0625834465026855\n",
      "Epoch 2:\n",
      "0.0049453690018345149828\n"
     ]
    }
   ],
   "source": [
    "accu_list1 = []\n",
    "loss_list1 = []\n",
    "accu_list2 = []\n",
    "loss_list2 = []\n",
    "\n",
    "def train(dataflow, model, device, optimizer):\n",
    "    for feed_dict in dataflow['train']:\n",
    "        inputs = feed_dict['image'].to(device)\n",
    "        targets = feed_dict['digit'].to(device)\n",
    "\n",
    "        outputs = model(inputs)\n",
    "        loss = F.nll_loss(outputs, targets)\n",
    "        optimizer.zero_grad()\n",
    "        loss.backward()\n",
    "        optimizer.step()\n",
    "        print(f\"loss: {loss.item()}\", end='\\r')\n",
    "\n",
    "\n",
    "def valid_test(dataflow, split, model, device, qiskit=False):\n",
    "    target_all = []\n",
    "    output_all = []\n",
    "    with torch.no_grad():\n",
    "        for feed_dict in dataflow[split]:\n",
    "            inputs = feed_dict['image'].to(device)\n",
    "            targets = feed_dict['digit'].to(device)\n",
    "\n",
    "            outputs = model(inputs, use_qiskit=qiskit)\n",
    "\n",
    "            target_all.append(targets)\n",
    "            output_all.append(outputs)\n",
    "        target_all = torch.cat(target_all, dim=0)\n",
    "        output_all = torch.cat(output_all, dim=0)\n",
    "\n",
    "    _, indices = output_all.topk(1, dim=1)\n",
    "    masks = indices.eq(target_all.view(-1, 1).expand_as(indices))\n",
    "    size = target_all.shape[0]\n",
    "    corrects = masks.sum().item()\n",
    "    accuracy = corrects / size\n",
    "    loss = F.nll_loss(output_all, target_all).item()\n",
    "\n",
    "    print(f\"{split} set accuracy: {accuracy}\")\n",
    "    print(f\"{split} set loss: {loss}\")\n",
    "\n",
    "    return accuracy, loss\n",
    "\n",
    "for epoch in range(1, n_epochs + 1):\n",
    "    # train\n",
    "    print(f\"Epoch {epoch}:\")\n",
    "    train(dataflow, model, device, optimizer)\n",
    "    print(optimizer.param_groups[0]['lr'])\n",
    "\n",
    "    # valid\n",
    "    accu, loss = valid_test(dataflow, 'test', model, device)\n",
    "    accu_list1.append(accu)\n",
    "    loss_list1.append(loss)\n",
    "    scheduler.step()\n"
   ]
  },
  {
   "cell_type": "markdown",
   "metadata": {
    "id": "dJkRbcfNEFzh"
   },
   "source": [
    "Train the model without quanvolutional filters."
   ]
  },
  {
   "cell_type": "code",
   "execution_count": 26,
   "metadata": {
    "colab": {
     "base_uri": "https://localhost:8080/"
    },
    "id": "maFOnvDd1PrX",
    "outputId": "c039a787-a3bf-4ee5-8c1f-512c09773a81"
   },
   "outputs": [
    {
     "name": "stdout",
     "output_type": "stream",
     "text": [
      "Epoch 1:\n",
      "0.005 0.08121478557586675\n",
      "test set accuracy: 0.7733333333333333\n",
      "test set loss: 0.6043261289596558\n",
      "Epoch 2:\n",
      "0.00494536900183451422363\n",
      "test set accuracy: 0.8166666666666667\n",
      "test set loss: 0.5571646094322205\n",
      "Epoch 3:\n",
      "0.004783863644106502323366\n",
      "test set accuracy: 0.8466666666666667\n",
      "test set loss: 0.46128183603286743\n",
      "Epoch 4:\n",
      "0.004522542485937368502655\n",
      "test set accuracy: 0.8366666666666667\n",
      "test set loss: 0.5158914923667908\n",
      "Epoch 5:\n",
      "0.004172826515897145501354\n",
      "test set accuracy: 0.8666666666666667\n",
      "test set loss: 0.45338067412376404\n",
      "Epoch 6:\n",
      "0.00375.012896923348307617\n",
      "test set accuracy: 0.8466666666666667\n",
      "test set loss: 0.4563254714012146\n",
      "Epoch 7:\n",
      "0.0032725424859373687198526\n",
      "test set accuracy: 0.8566666666666667\n",
      "test set loss: 0.4633018970489502\n",
      "Epoch 8:\n",
      "0.0027613211581691342325325\n",
      "test set accuracy: 0.86\n",
      "test set loss: 0.46147486567497253\n",
      "Epoch 9:\n",
      "0.0022386788418308671136765\n",
      "test set accuracy: 0.85\n",
      "test set loss: 0.4531932473182678\n",
      "Epoch 10:\n",
      "0.0017274575140626322343445\n",
      "test set accuracy: 0.84\n",
      "test set loss: 0.46221110224723816\n",
      "Epoch 11:\n",
      "0.0012500000000000007997175\n",
      "test set accuracy: 0.8533333333333334\n",
      "test set loss: 0.4611276388168335\n",
      "Epoch 12:\n",
      "0.0008271734841028553028789\n",
      "test set accuracy: 0.8533333333333334\n",
      "test set loss: 0.46140310168266296\n",
      "Epoch 13:\n",
      "0.0004774575140626316309085\n",
      "test set accuracy: 0.8533333333333334\n",
      "test set loss: 0.4610340893268585\n",
      "Epoch 14:\n",
      "0.000216136355893497558827\n",
      "test set accuracy: 0.8533333333333334\n",
      "test set loss: 0.46056315302848816\n",
      "Epoch 15:\n",
      "5.463099816548578e-0531647\n",
      "test set accuracy: 0.8533333333333334\n",
      "test set loss: 0.46066761016845703\n"
     ]
    }
   ],
   "source": [
    "optimizer = optim.Adam(model_without_qf.parameters(), lr=5e-3, weight_decay=1e-4)\n",
    "scheduler = CosineAnnealingLR(optimizer, T_max=n_epochs)\n",
    "for epoch in range(1, n_epochs + 1):\n",
    "    # train\n",
    "    print(f\"Epoch {epoch}:\")\n",
    "    train(dataflow, model_without_qf, device, optimizer)\n",
    "    print(optimizer.param_groups[0]['lr'])\n",
    "\n",
    "    # valid\n",
    "    accu, loss = valid_test(dataflow, 'test', model_without_qf, device)\n",
    "    accu_list2.append(accu)\n",
    "    loss_list2.append(loss)\n",
    "\n",
    "    scheduler.step()"
   ]
  },
  {
   "cell_type": "markdown",
   "metadata": {
    "id": "AGuWP25IEIS1"
   },
   "source": [
    "### Compare Quanvolutional Neural Network with classical model.\n",
    "\n",
    "After training, we can plot the accuracy and loss curve. We can see that model with quanvolutional filter can achieve slightly higher accuracy than model without quanvolution."
   ]
  },
  {
   "cell_type": "code",
   "execution_count": 30,
   "metadata": {
    "colab": {
     "base_uri": "https://localhost:8080/",
     "height": 297
    },
    "id": "E_asswJ82Z2E",
    "outputId": "85b188d3-616b-4d50-d2ce-667c4dd05ff5"
   },
   "outputs": [
    {
     "data": {
      "image/png": "[encoded data removed]",
      "text/plain": [
       "<Figure size 640x480 with 2 Axes>"
      ]
     },
     "metadata": {},
     "output_type": "display_data"
    }
   ],
   "source": [
    "%matplotlib inline\n",
    "import matplotlib.pyplot as plt\n",
    "import numpy as np\n",
    "import matplotlib\n",
    "\n",
    "fig, (ax1, ax2) = plt.subplots(2, 1, sharex=True)\n",
    "\n",
    "ax1.plot(accu_list1, label=\"with quanvolution filter\")\n",
    "ax1.plot(accu_list2, label=\"without quanvolution filter\")\n",
    "ax1.set_ylabel(\"Accuracy\")\n",
    "ax1.set_ylim([0.6, 1])\n",
    "ax1.set_xlabel(\"Epoch\")\n",
    "ax1.legend()\n",
    "\n",
    "ax2.plot(loss_list1, label=\"with quanvolution filter\")\n",
    "ax2.plot(loss_list2, label=\"without quanvolution filter\")\n",
    "ax2.set_ylabel(\"Loss\")\n",
    "ax2.set_ylim([0, 2])\n",
    "ax2.set_xlabel(\"Epoch\")\n",
    "ax2.legend()\n",
    "plt.tight_layout()\n",
    "plt.show()\n"
   ]
  },
  {
   "cell_type": "markdown",
   "metadata": {
    "id": "PMU08GNiEKTW"
   },
   "source": [
    "Here we can also see the image before quanvolutional filter and after quanvolutional filter."
   ]
  },
  {
   "cell_type": "code",
   "execution_count": 22,
   "metadata": {
    "colab": {
     "base_uri": "https://localhost:8080/",
     "height": 690
    },
    "id": "710VuJZMJGGe",
    "outputId": "e02f51bf-08bb-4e71-9343-2ebe4bdef14c"
   },
   "outputs": [
    {
     "data": {
      "image/png": "[encoded data removed]",
      "text/plain": [
       "<Figure size 1000x1000 with 50 Axes>"
      ]
     },
     "metadata": {},
     "output_type": "display_data"
    }
   ],
   "source": [
    "import matplotlib.pyplot as plt\n",
    "import matplotlib\n",
    "\n",
    "n_samples = 10\n",
    "n_channels = 4\n",
    "for feed_dict in dataflow['test']:\n",
    "  inputs = feed_dict['image'].to(device)\n",
    "  break \n",
    "sample = inputs[:n_samples]\n",
    "after_quanv = model.qf(sample).view(n_samples, 14*14, 4).cpu().detach().numpy()\n",
    "\n",
    "fig, axes = plt.subplots(1 + n_channels, n_samples, figsize=(10, 10))\n",
    "for k in range(n_samples):\n",
    "    axes[0, 0].set_ylabel(\"image\")\n",
    "    if k != 0:\n",
    "        axes[0, k].yaxis.set_visible(False)\n",
    "    \n",
    "    norm = matplotlib.colors.Normalize(vmin=0, vmax=1)\n",
    "    \n",
    "    axes[0, k].imshow(sample[k, 0, :, :].cpu(), norm=norm, cmap=\"gray\")\n",
    "\n",
    "    for c in range(n_channels):\n",
    "        axes[c + 1, 0].set_ylabel(\"channel {}\".format(c))\n",
    "        if k != 0:\n",
    "            axes[c, k].yaxis.set_visible(False)\n",
    "        axes[c + 1, k].imshow(after_quanv[k, :, c].reshape(14, 14), norm=norm, cmap=\"gray\")\n",
    "\n",
    "plt.tight_layout()\n",
    "plt.show()\n"
   ]
  },
  {
   "cell_type": "markdown",
   "metadata": {
    "id": "6Z_yKJ7WNKCQ"
   },
   "source": [
    "### Evaluate on real quantum computer.\n",
    "\n",
    "At last, we can run our quanvolutional filter on IBMQ’s real quantum machine. The process is really slow so I will not show it here. If you have higher priority access to IBMQ qiskit, you can check the code cell in installation and replace our token with your advance token. That will make the process faster."
   ]
  },
  {
   "cell_type": "code",
   "execution_count": null,
   "metadata": {
    "id": "mR6wlvcbMLwx"
   },
   "outputs": [],
   "source": [
    "# test\n",
    "valid_test(dataflow, 'test', model, device, qiskit=False)\n",
    "\n",
    "# run on Qiskit simulator and real Quantum Computers\n",
    "try:\n",
    "    from qiskit import IBMQ\n",
    "    from torchquantum.plugin import QiskitProcessor\n",
    "    # firstly perform simulate\n",
    "    print(f\"\\nTest with Qiskit Simulator\")\n",
    "    processor_simulation = QiskitProcessor(use_real_qc=False)\n",
    "    model.qf.set_qiskit_processor(processor_simulation)\n",
    "    valid_test(dataflow, 'test', model, device, qiskit=True)\n",
    "    # then try to run on REAL QC\n",
    "    backend_name = 'ibmq_quito'\n",
    "    print(f\"\\nTest on Real Quantum Computer {backend_name}\")\n",
    "    processor_real_qc = QiskitProcessor(use_real_qc=True,backend_name=backend_name)\n",
    "    model.qf.set_qiskit_processor(processor_real_qc)\n",
    "    valid_test(dataflow, 'test', model, device, qiskit=True)\n",
    "except ImportError:\n",
    "    print(\"Please install qiskit, create an IBM Q Experience Account and \"\n",
    "          \"save the account token according to the instruction at \"\n",
    "          \"'https://github.com/Qiskit/qiskit-ibmq-provider', \"\n",
    "          \"then try again.\")\n"
   ]
  },
  {
   "cell_type": "markdown",
   "metadata": {
    "id": "NkbKoXwfnwAC"
   },
   "source": [
    "## Trainable Quanvolutional Filter\n",
    "In this section, we consider the case that quanvolutional filters are trainable, and we compare various models with nearly the same number of trainale parameters. The four model compared here are described by the following figure.\n",
    "\n",
    "\n",
    "<div align=\"center\">\n",
    "<img src=\"https://github.com/mit-han-lab/torchquantum/blob/master/figs/4models.png?raw=true\" alt=\"conv-full-layer\" width=\"600\">\n",
    "</div>\n",
    "\n",
    "The Model1 contains a trainable quanvolutional filter and a fully connected layer.\n",
    "\n",
    "The Model2 contains a trainable quanvolutional filter and a quantum fully connected layer. We use `U3CU3Layer0` from `torchquantum.layers` to implement the QFC layer.\n",
    "\n",
    "When building the ansatz part of the QFC, we need to pass a dict describing the architecture of the ansatz. Here the dict is `{'n_wires': self.n_wires, 'n_blocks': 4, 'n_layers_per_block': 2}`, which means the ansatz contains n_wires qubits, there are 4 blocks and in each block are 2 layers. Passing the arch to `U3CU3Layer0` we will get a trainable ansatz with 4 blocks and in each block contains 4 U3 gates followed by 4 CU3 gates.\n",
    "\n",
    "The Model3 is simply a QFC layer.\n",
    "\n",
    "The Model4 is two fully connected layers.\n",
    "\n"
   ]
  },
  {
   "cell_type": "code",
   "execution_count": null,
   "metadata": {
    "id": "b46xdprmqcgK"
   },
   "outputs": [],
   "source": [
    "from torchquantum.encoding import encoder_op_list_name_dict\n",
    "from torchquantum.layers import U3CU3Layer0\n",
    "\n",
    "class TrainableQuanvFilter(tq.QuantumModule):\n",
    "    def __init__(self):\n",
    "        super().__init__()\n",
    "        self.n_wires = 4\n",
    "        self.q_device = tq.QuantumDevice(n_wires=self.n_wires)\n",
    "        self.encoder = tq.GeneralEncoder(\n",
    "        [   {'input_idx': [0], 'func': 'ry', 'wires': [0]},\n",
    "            {'input_idx': [1], 'func': 'ry', 'wires': [1]},\n",
    "            {'input_idx': [2], 'func': 'ry', 'wires': [2]},\n",
    "            {'input_idx': [3], 'func': 'ry', 'wires': [3]},])\n",
    "        \n",
    "        self.arch = {'n_wires': self.n_wires, 'n_blocks': 5, 'n_layers_per_block': 2}\n",
    "        self.q_layer = U3CU3Layer0(self.arch)\n",
    "        self.measure = tq.MeasureAll(tq.PauliZ)\n",
    "\n",
    "    def forward(self, x, use_qiskit=False):\n",
    "        bsz = x.shape[0]\n",
    "        x = F.avg_pool2d(x, 6).view(bsz, 4, 4)\n",
    "        size = 4\n",
    "        stride = 2\n",
    "        x = x.view(bsz, size, size)\n",
    "\n",
    "        data_list = []\n",
    "\n",
    "        for c in range(0, size, stride):\n",
    "            for r in range(0, size, stride):\n",
    "                data = torch.transpose(torch.cat((x[:, c, r], x[:, c, r+1], x[:, c+1, r], x[:, c+1, r+1])).view(4, bsz), 0, 1)\n",
    "                if use_qiskit:\n",
    "                    data = self.qiskit_processor.process_parameterized(\n",
    "                        self.q_device, self.encoder, self.q_layer, self.measure, data)\n",
    "                else:\n",
    "                    self.encoder(self.q_device, data)\n",
    "                    self.q_layer(self.q_device)\n",
    "                    data = self.measure(self.q_device)\n",
    "\n",
    "                data_list.append(data.view(bsz, 4))\n",
    "        \n",
    "        # transpose to (bsz, channel, 2x2)\n",
    "        result = torch.transpose(torch.cat(data_list, dim=1).view(bsz, 4, 4), 1, 2).float()\n",
    "        \n",
    "        return result\n",
    "\n",
    "class QuantumClassifier(torch.nn.Module):\n",
    "    def __init__(self):\n",
    "        super().__init__()\n",
    "        self.n_wires = 4\n",
    "        self.q_device = tq.QuantumDevice(n_wires=4)\n",
    "        self.encoder = tq.GeneralEncoder(encoder_op_list_name_dict['4x4_ryzxy'])\n",
    "        self.arch = {'n_wires': self.n_wires, 'n_blocks': 8, 'n_layers_per_block': 2}\n",
    "        self.ansatz = U3CU3Layer0(self.arch)\n",
    "        self.measure = tq.MeasureAll(tq.PauliZ)\n",
    "    \n",
    "    def forward(self, x, use_qiskit=False):\n",
    "        bsz = x.shape[0]\n",
    "        x = F.avg_pool2d(x, 6).view(bsz, 16)\n",
    "\n",
    "        if use_qiskit:\n",
    "            x = self.qiskit_processor.process_parameterized(\n",
    "                self.q_device, self.encoder, self.q_layer, self.measure, x)\n",
    "        else:\n",
    "            self.encoder(self.q_device, x)\n",
    "            self.ansatz(self.q_device)\n",
    "            x = self.measure(self.q_device)\n",
    "\n",
    "        return x\n",
    "\n",
    "class QFC(tq.QuantumModule):\n",
    "    def __init__(self):\n",
    "        super().__init__()\n",
    "        self.n_wires = 4\n",
    "        self.q_device = tq.QuantumDevice(n_wires=self.n_wires)\n",
    "        self.encoder = tq.GeneralEncoder(encoder_op_list_name_dict['4x4_ryzxy'])\n",
    "        self.arch = {'n_wires': self.n_wires, 'n_blocks': 4, 'n_layers_per_block': 2}\n",
    "\n",
    "        self.q_layer = U3CU3Layer0(self.arch)\n",
    "        self.measure = tq.MeasureAll(tq.PauliZ)\n",
    "\n",
    "    def forward(self, x, use_qiskit=False):\n",
    "        bsz = x.shape[0]\n",
    "        data = x\n",
    "        if use_qiskit:\n",
    "            data = self.qiskit_processor.process_parameterized(\n",
    "                self.q_device, self.encoder, self.q_layer, self.measure, data)\n",
    "        else:\n",
    "            self.encoder(self.q_device, data)\n",
    "            self.q_layer(self.q_device)\n",
    "            data = self.measure(self.q_device)\n",
    "        return data\n",
    "\n",
    "\n",
    "class Model1(torch.nn.Module):\n",
    "    def __init__(self):\n",
    "        super().__init__()\n",
    "        self.qf = TrainableQuanvFilter()\n",
    "        self.linear = torch.nn.Linear(16, 4)\n",
    "    \n",
    "    def forward(self, x, use_qiskit=False):\n",
    "        x = x.view(-1, 28, 28)\n",
    "        x = self.qf(x)\n",
    "        x = x.reshape(-1, 16)\n",
    "        x = self.linear(x)\n",
    "        return F.log_softmax(x, -1)\n",
    "\n",
    "class Model2(torch.nn.Module):\n",
    "    def __init__(self):\n",
    "        super().__init__()\n",
    "        self.qf = TrainableQuanvFilter()\n",
    "        self.qfc = QFC()\n",
    "    \n",
    "    def forward(self, x, use_qiskit=False):\n",
    "        x = x.view(-1, 28, 28)\n",
    "        x = self.qf(x)\n",
    "        x = x.reshape(-1, 16)\n",
    "        x = self.qfc(x)\n",
    "        return F.log_softmax(x, -1)\n",
    "\n",
    "class Model3(torch.nn.Module):\n",
    "    def __init__(self):\n",
    "        super().__init__()\n",
    "        self.qfc = QuantumClassifier()\n",
    "    \n",
    "    def forward(self, x, use_qiskit=False):\n",
    "        x = self.qfc(x)\n",
    "        return F.log_softmax(x, -1)\n",
    "\n",
    "class Model4(torch.nn.Module):\n",
    "    def __init__(self):\n",
    "        super().__init__()\n",
    "        self.linear1 = torch.nn.Linear(16, 9)\n",
    "        self.linear2 = torch.nn.Linear(9, 4)\n",
    "    \n",
    "    def forward(self, x, use_qiskit=False):\n",
    "        x = x.view(-1, 28, 28)\n",
    "        bsz = x.shape[0]\n",
    "        x = F.avg_pool2d(x, 6).view(bsz, 16)\n",
    "\n",
    "        x = self.linear1(x)\n",
    "        x = self.linear2(x)\n",
    "        return F.log_softmax(x, -1)"
   ]
  },
  {
   "cell_type": "markdown",
   "metadata": {
    "id": "PkTvypANsRIL"
   },
   "source": [
    "Here we do the MNIST 4 classification tasks."
   ]
  },
  {
   "cell_type": "code",
   "execution_count": null,
   "metadata": {
    "id": "veZRy9L-sKBC"
   },
   "outputs": [],
   "source": [
    "dataset = MNIST(\n",
    "    root='./mnist_data',\n",
    "    train_valid_split_ratio=[0.9, 0.1],\n",
    "    digits_of_interest=[0, 1, 2, 3],\n",
    "    n_test_samples=300,\n",
    "    n_train_samples=500,\n",
    ")\n",
    "\n",
    "dataflow = dict()\n",
    "for split in dataset:\n",
    "    sampler = torch.utils.data.RandomSampler(dataset[split])\n",
    "    dataflow[split] = torch.utils.data.DataLoader(\n",
    "        dataset[split],\n",
    "        batch_size=10,\n",
    "        sampler=sampler,\n",
    "        num_workers=8,\n",
    "        pin_memory=True)"
   ]
  },
  {
   "cell_type": "code",
   "execution_count": null,
   "metadata": {
    "id": "kDvJ7RmcsqAy"
   },
   "outputs": [],
   "source": [
    "use_cuda = torch.cuda.is_available()\n",
    "device = torch.device(\"cuda\" if use_cuda else \"cpu\")\n",
    "accus = []\n",
    "\n",
    "model_list = [Model1().to(device), Model2().to(device), Model3().to(device), Model4().to(device)]\n",
    "for model in model_list:\n",
    "  n_epochs = 15\n",
    "\n",
    "  optimizer = optim.Adam(model.parameters(), lr=5e-3, weight_decay=1e-4)\n",
    "  scheduler = CosineAnnealingLR(optimizer, T_max=n_epochs)\n",
    "  for epoch in range(1, n_epochs + 1):\n",
    "      # train\n",
    "      print(f\"Epoch {epoch}:\")\n",
    "      train(dataflow, model, device, optimizer)\n",
    "      print(optimizer.param_groups[0]['lr'])\n",
    "      # valid\n",
    "      accu, loss = valid_test(dataflow, 'test', model, device)\n",
    "      scheduler.step()\n",
    "  accus.append(accu)"
   ]
  },
  {
   "cell_type": "code",
   "execution_count": null,
   "metadata": {
    "id": "wXfgOqfr42sx"
   },
   "outputs": [],
   "source": [
    "for i, accu in enumerate(accus):\n",
    "  print('accuracy of model{0}: {1}'.format(i+1, accu))"
   ]
  }
 ],
 "metadata": {
  "accelerator": "GPU",
  "colab": {
   "collapsed_sections": [
    "pfwd2SNaOA4z"
   ],
   "name": "Quanvolution example",
   "provenance": []
  },
  "kernelspec": {
   "display_name": "Python 3 (ipykernel)",
   "language": "python",
   "name": "python3"
  },
  "language_info": {
   "codemirror_mode": {
    "name": "ipython",
    "version": 3
   },
   "file_extension": ".py",
   "mimetype": "text/x-python",
   "name": "python",
   "nbconvert_exporter": "python",
   "pygments_lexer": "ipython3",
   "version": "3.8.18"
  },
  "vscode": {
   "interpreter": {
    "hash": "0b2ecac4133ec89d164eeefcc4a6d2d5c9a232a58380a21c437a4c41906128d5"
   }
  },
  "widgets": {
   "application/vnd.jupyter.widget-state+json": {
    "18acae4757154a10a7e2b9ebe4fbd53b": {
     "model_module": "@jupyter-widgets/controls",
     "model_module_version": "1.5.0",
     "model_name": "DescriptionStyleModel",
     "state": {
      "_model_module": "@jupyter-widgets/controls",
      "_model_module_version": "1.5.0",
      "_model_name": "DescriptionStyleModel",
      "_view_count": null,
      "_view_module": "@jupyter-widgets/base",
      "_view_module_version": "1.2.0",
      "_view_name": "StyleView",
      "description_width": ""
     }
    },
    "1c75908cdb0d4909a266ef3f0184c13d": {
     "model_module": "@jupyter-widgets/controls",
     "model_module_version": "1.5.0",
     "model_name": "DescriptionStyleModel",
     "state": {
      "_model_module": "@jupyter-widgets/controls",
      "_model_module_version": "1.5.0",
      "_model_name": "DescriptionStyleModel",
      "_view_count": null,
      "_view_module": "@jupyter-widgets/base",
      "_view_module_version": "1.2.0",
      "_view_name": "StyleView",
      "description_width": ""
     }
    },
    "237d834d5fd74efa947683722d3e0e37": {
     "model_module": "@jupyter-widgets/controls",
     "model_module_version": "1.5.0",
     "model_name": "FloatProgressModel",
     "state": {
      "_dom_classes": [],
      "_model_module": "@jupyter-widgets/controls",
      "_model_module_version": "1.5.0",
      "_model_name": "FloatProgressModel",
      "_view_count": null,
      "_view_module": "@jupyter-widgets/controls",
      "_view_module_version": "1.5.0",
      "_view_name": "ProgressView",
      "bar_style": "success",
      "description": "",
      "description_tooltip": null,
      "layout": "IPY_MODEL_c893fabe4af6410d837a0bd191df61d9",
      "max": 1648877,
      "min": 0,
      "orientation": "horizontal",
      "style": "IPY_MODEL_f86c7ffecc394345a4eeb587cfd404d1",
      "value": 1648877
     }
    },
    "23dbd6346f684afebcc4ea0d3e72a67e": {
     "model_module": "@jupyter-widgets/controls",
     "model_module_version": "1.5.0",
     "model_name": "HBoxModel",
     "state": {
      "_dom_classes": [],
      "_model_module": "@jupyter-widgets/controls",
      "_model_module_version": "1.5.0",
      "_model_name": "HBoxModel",
      "_view_count": null,
      "_view_module": "@jupyter-widgets/controls",
      "_view_module_version": "1.5.0",
      "_view_name": "HBoxView",
      "box_style": "",
      "children": [
       "IPY_MODEL_3b090dcf208c4822892a0afc2ba2e6a9",
       "IPY_MODEL_d0a2f52a311541a686f592a985e1aac0",
       "IPY_MODEL_41e329d1bd764c7cad4d2e834df50cd9"
      ],
      "layout": "IPY_MODEL_e85d5726a566462e962baa75f32074d6"
     }
    },
    "26d0390ad17048799741582271721a3e": {
     "model_module": "@jupyter-widgets/base",
     "model_module_version": "1.2.0",
     "model_name": "LayoutModel",
     "state": {
      "_model_module": "@jupyter-widgets/base",
      "_model_module_version": "1.2.0",
      "_model_name": "LayoutModel",
      "_view_count": null,
      "_view_module": "@jupyter-widgets/base",
      "_view_module_version": "1.2.0",
      "_view_name": "LayoutView",
      "align_content": null,
      "align_items": null,
      "align_self": null,
      "border": null,
      "bottom": null,
      "display": null,
      "flex": null,
      "flex_flow": null,
      "grid_area": null,
      "grid_auto_columns": null,
      "grid_auto_flow": null,
      "grid_auto_rows": null,
      "grid_column": null,
      "grid_gap": null,
      "grid_row": null,
      "grid_template_areas": null,
      "grid_template_columns": null,
      "grid_template_rows": null,
      "height": null,
      "justify_content": null,
      "justify_items": null,
      "left": null,
      "margin": null,
      "max_height": null,
      "max_width": null,
      "min_height": null,
      "min_width": null,
      "object_fit": null,
      "object_position": null,
      "order": null,
      "overflow": null,
      "overflow_x": null,
      "overflow_y": null,
      "padding": null,
      "right": null,
      "top": null,
      "visibility": null,
      "width": null
     }
    },
    "29be09a9c5344928a9d2dda75ed8680c": {
     "model_module": "@jupyter-widgets/controls",
     "model_module_version": "1.5.0",
     "model_name": "HTMLModel",
     "state": {
      "_dom_classes": [],
      "_model_module": "@jupyter-widgets/controls",
      "_model_module_version": "1.5.0",
      "_model_name": "HTMLModel",
      "_view_count": null,
      "_view_module": "@jupyter-widgets/controls",
      "_view_module_version": "1.5.0",
      "_view_name": "HTMLView",
      "description": "",
      "description_tooltip": null,
      "layout": "IPY_MODEL_45f166ea914e49c5bcf2ec39a649e351",
      "placeholder": "​",
      "style": "IPY_MODEL_f69883e80817409c9a10a2ec6d6ef68c",
      "value": " 1649664/? [00:00&lt;00:00, 6011445.81it/s]"
     }
    },
    "30b8e4960e564891ad81ac242c228b25": {
     "model_module": "@jupyter-widgets/controls",
     "model_module_version": "1.5.0",
     "model_name": "HTMLModel",
     "state": {
      "_dom_classes": [],
      "_model_module": "@jupyter-widgets/controls",
      "_model_module_version": "1.5.0",
      "_model_name": "HTMLModel",
      "_view_count": null,
      "_view_module": "@jupyter-widgets/controls",
      "_view_module_version": "1.5.0",
      "_view_name": "HTMLView",
      "description": "",
      "description_tooltip": null,
      "layout": "IPY_MODEL_a8e8fb1c355445698cbc828dddffb9e5",
      "placeholder": "​",
      "style": "IPY_MODEL_d274e40c0adb4d3e80e8d1cf5ad475ee",
      "value": ""
     }
    },
    "32bd67ddf3a44b879cb123aa797627c0": {
     "model_module": "@jupyter-widgets/controls",
     "model_module_version": "1.5.0",
     "model_name": "HTMLModel",
     "state": {
      "_dom_classes": [],
      "_model_module": "@jupyter-widgets/controls",
      "_model_module_version": "1.5.0",
      "_model_name": "HTMLModel",
      "_view_count": null,
      "_view_module": "@jupyter-widgets/controls",
      "_view_module_version": "1.5.0",
      "_view_name": "HTMLView",
      "description": "",
      "description_tooltip": null,
      "layout": "IPY_MODEL_e81b4f6589d649758fd2cd18da8ab35f",
      "placeholder": "​",
      "style": "IPY_MODEL_7584295a605c4a99a4dccce31be4cb2d",
      "value": ""
     }
    },
    "34e1a2b9f934411090026a0ee98a3b5b": {
     "model_module": "@jupyter-widgets/base",
     "model_module_version": "1.2.0",
     "model_name": "LayoutModel",
     "state": {
      "_model_module": "@jupyter-widgets/base",
      "_model_module_version": "1.2.0",
      "_model_name": "LayoutModel",
      "_view_count": null,
      "_view_module": "@jupyter-widgets/base",
      "_view_module_version": "1.2.0",
      "_view_name": "LayoutView",
      "align_content": null,
      "align_items": null,
      "align_self": null,
      "border": null,
      "bottom": null,
      "display": null,
      "flex": null,
      "flex_flow": null,
      "grid_area": null,
      "grid_auto_columns": null,
      "grid_auto_flow": null,
      "grid_auto_rows": null,
      "grid_column": null,
      "grid_gap": null,
      "grid_row": null,
      "grid_template_areas": null,
      "grid_template_columns": null,
      "grid_template_rows": null,
      "height": null,
      "justify_content": null,
      "justify_items": null,
      "left": null,
      "margin": null,
      "max_height": null,
      "max_width": null,
      "min_height": null,
      "min_width": null,
      "object_fit": null,
      "object_position": null,
      "order": null,
      "overflow": null,
      "overflow_x": null,
      "overflow_y": null,
      "padding": null,
      "right": null,
      "top": null,
      "visibility": null,
      "width": null
     }
    },
    "364f865b5e334ac6add27ef1a32b8173": {
     "model_module": "@jupyter-widgets/base",
     "model_module_version": "1.2.0",
     "model_name": "LayoutModel",
     "state": {
      "_model_module": "@jupyter-widgets/base",
      "_model_module_version": "1.2.0",
      "_model_name": "LayoutModel",
      "_view_count": null,
      "_view_module": "@jupyter-widgets/base",
      "_view_module_version": "1.2.0",
      "_view_name": "LayoutView",
      "align_content": null,
      "align_items": null,
      "align_self": null,
      "border": null,
      "bottom": null,
      "display": null,
      "flex": null,
      "flex_flow": null,
      "grid_area": null,
      "grid_auto_columns": null,
      "grid_auto_flow": null,
      "grid_auto_rows": null,
      "grid_column": null,
      "grid_gap": null,
      "grid_row": null,
      "grid_template_areas": null,
      "grid_template_columns": null,
      "grid_template_rows": null,
      "height": null,
      "justify_content": null,
      "justify_items": null,
      "left": null,
      "margin": null,
      "max_height": null,
      "max_width": null,
      "min_height": null,
      "min_width": null,
      "object_fit": null,
      "object_position": null,
      "order": null,
      "overflow": null,
      "overflow_x": null,
      "overflow_y": null,
      "padding": null,
      "right": null,
      "top": null,
      "visibility": null,
      "width": null
     }
    },
    "393cc69622f3428fba3e10886e5ab65d": {
     "model_module": "@jupyter-widgets/base",
     "model_module_version": "1.2.0",
     "model_name": "LayoutModel",
     "state": {
      "_model_module": "@jupyter-widgets/base",
      "_model_module_version": "1.2.0",
      "_model_name": "LayoutModel",
      "_view_count": null,
      "_view_module": "@jupyter-widgets/base",
      "_view_module_version": "1.2.0",
      "_view_name": "LayoutView",
      "align_content": null,
      "align_items": null,
      "align_self": null,
      "border": null,
      "bottom": null,
      "display": null,
      "flex": null,
      "flex_flow": null,
      "grid_area": null,
      "grid_auto_columns": null,
      "grid_auto_flow": null,
      "grid_auto_rows": null,
      "grid_column": null,
      "grid_gap": null,
      "grid_row": null,
      "grid_template_areas": null,
      "grid_template_columns": null,
      "grid_template_rows": null,
      "height": null,
      "justify_content": null,
      "justify_items": null,
      "left": null,
      "margin": null,
      "max_height": null,
      "max_width": null,
      "min_height": null,
      "min_width": null,
      "object_fit": null,
      "object_position": null,
      "order": null,
      "overflow": null,
      "overflow_x": null,
      "overflow_y": null,
      "padding": null,
      "right": null,
      "top": null,
      "visibility": null,
      "width": null
     }
    },
    "3b090dcf208c4822892a0afc2ba2e6a9": {
     "model_module": "@jupyter-widgets/controls",
     "model_module_version": "1.5.0",
     "model_name": "HTMLModel",
     "state": {
      "_dom_classes": [],
      "_model_module": "@jupyter-widgets/controls",
      "_model_module_version": "1.5.0",
      "_model_name": "HTMLModel",
      "_view_count": null,
      "_view_module": "@jupyter-widgets/controls",
      "_view_module_version": "1.5.0",
      "_view_name": "HTMLView",
      "description": "",
      "description_tooltip": null,
      "layout": "IPY_MODEL_b6d2f65a2e644523b7ecc6e3e9e17de3",
      "placeholder": "​",
      "style": "IPY_MODEL_5de520efee524ca28ed5b1b42861bef7",
      "value": ""
     }
    },
    "3f37e8639ddd4a6eac44420ce3275cd7": {
     "model_module": "@jupyter-widgets/base",
     "model_module_version": "1.2.0",
     "model_name": "LayoutModel",
     "state": {
      "_model_module": "@jupyter-widgets/base",
      "_model_module_version": "1.2.0",
      "_model_name": "LayoutModel",
      "_view_count": null,
      "_view_module": "@jupyter-widgets/base",
      "_view_module_version": "1.2.0",
      "_view_name": "LayoutView",
      "align_content": null,
      "align_items": null,
      "align_self": null,
      "border": null,
      "bottom": null,
      "display": null,
      "flex": null,
      "flex_flow": null,
      "grid_area": null,
      "grid_auto_columns": null,
      "grid_auto_flow": null,
      "grid_auto_rows": null,
      "grid_column": null,
      "grid_gap": null,
      "grid_row": null,
      "grid_template_areas": null,
      "grid_template_columns": null,
      "grid_template_rows": null,
      "height": null,
      "justify_content": null,
      "justify_items": null,
      "left": null,
      "margin": null,
      "max_height": null,
      "max_width": null,
      "min_height": null,
      "min_width": null,
      "object_fit": null,
      "object_position": null,
      "order": null,
      "overflow": null,
      "overflow_x": null,
      "overflow_y": null,
      "padding": null,
      "right": null,
      "top": null,
      "visibility": null,
      "width": null
     }
    },
    "41e329d1bd764c7cad4d2e834df50cd9": {
     "model_module": "@jupyter-widgets/controls",
     "model_module_version": "1.5.0",
     "model_name": "HTMLModel",
     "state": {
      "_dom_classes": [],
      "_model_module": "@jupyter-widgets/controls",
      "_model_module_version": "1.5.0",
      "_model_name": "HTMLModel",
      "_view_count": null,
      "_view_module": "@jupyter-widgets/controls",
      "_view_module_version": "1.5.0",
      "_view_name": "HTMLView",
      "description": "",
      "description_tooltip": null,
      "layout": "IPY_MODEL_26d0390ad17048799741582271721a3e",
      "placeholder": "​",
      "style": "IPY_MODEL_c168c7416db742f5bc74d45fe4a9bf05",
      "value": " 29696/? [00:00&lt;00:00, 1002987.94it/s]"
     }
    },
    "45f166ea914e49c5bcf2ec39a649e351": {
     "model_module": "@jupyter-widgets/base",
     "model_module_version": "1.2.0",
     "model_name": "LayoutModel",
     "state": {
      "_model_module": "@jupyter-widgets/base",
      "_model_module_version": "1.2.0",
      "_model_name": "LayoutModel",
      "_view_count": null,
      "_view_module": "@jupyter-widgets/base",
      "_view_module_version": "1.2.0",
      "_view_name": "LayoutView",
      "align_content": null,
      "align_items": null,
      "align_self": null,
      "border": null,
      "bottom": null,
      "display": null,
      "flex": null,
      "flex_flow": null,
      "grid_area": null,
      "grid_auto_columns": null,
      "grid_auto_flow": null,
      "grid_auto_rows": null,
      "grid_column": null,
      "grid_gap": null,
      "grid_row": null,
      "grid_template_areas": null,
      "grid_template_columns": null,
      "grid_template_rows": null,
      "height": null,
      "justify_content": null,
      "justify_items": null,
      "left": null,
      "margin": null,
      "max_height": null,
      "max_width": null,
      "min_height": null,
      "min_width": null,
      "object_fit": null,
      "object_position": null,
      "order": null,
      "overflow": null,
      "overflow_x": null,
      "overflow_y": null,
      "padding": null,
      "right": null,
      "top": null,
      "visibility": null,
      "width": null
     }
    },
    "4abe9a5443514e00a536c839a9a5e04d": {
     "model_module": "@jupyter-widgets/controls",
     "model_module_version": "1.5.0",
     "model_name": "ProgressStyleModel",
     "state": {
      "_model_module": "@jupyter-widgets/controls",
      "_model_module_version": "1.5.0",
      "_model_name": "ProgressStyleModel",
      "_view_count": null,
      "_view_module": "@jupyter-widgets/base",
      "_view_module_version": "1.2.0",
      "_view_name": "StyleView",
      "bar_color": null,
      "description_width": ""
     }
    },
    "5335eb0e67f84c85b9efacc7793d24fd": {
     "model_module": "@jupyter-widgets/controls",
     "model_module_version": "1.5.0",
     "model_name": "DescriptionStyleModel",
     "state": {
      "_model_module": "@jupyter-widgets/controls",
      "_model_module_version": "1.5.0",
      "_model_name": "DescriptionStyleModel",
      "_view_count": null,
      "_view_module": "@jupyter-widgets/base",
      "_view_module_version": "1.2.0",
      "_view_name": "StyleView",
      "description_width": ""
     }
    },
    "5953a85cd7334c828cf5005b2807fa41": {
     "model_module": "@jupyter-widgets/controls",
     "model_module_version": "1.5.0",
     "model_name": "HTMLModel",
     "state": {
      "_dom_classes": [],
      "_model_module": "@jupyter-widgets/controls",
      "_model_module_version": "1.5.0",
      "_model_name": "HTMLModel",
      "_view_count": null,
      "_view_module": "@jupyter-widgets/controls",
      "_view_module_version": "1.5.0",
      "_view_name": "HTMLView",
      "description": "",
      "description_tooltip": null,
      "layout": "IPY_MODEL_364f865b5e334ac6add27ef1a32b8173",
      "placeholder": "​",
      "style": "IPY_MODEL_18acae4757154a10a7e2b9ebe4fbd53b",
      "value": ""
     }
    },
    "5de520efee524ca28ed5b1b42861bef7": {
     "model_module": "@jupyter-widgets/controls",
     "model_module_version": "1.5.0",
     "model_name": "DescriptionStyleModel",
     "state": {
      "_model_module": "@jupyter-widgets/controls",
      "_model_module_version": "1.5.0",
      "_model_name": "DescriptionStyleModel",
      "_view_count": null,
      "_view_module": "@jupyter-widgets/base",
      "_view_module_version": "1.2.0",
      "_view_name": "StyleView",
      "description_width": ""
     }
    },
    "694229176eb84488811763e57ccdbd9f": {
     "model_module": "@jupyter-widgets/base",
     "model_module_version": "1.2.0",
     "model_name": "LayoutModel",
     "state": {
      "_model_module": "@jupyter-widgets/base",
      "_model_module_version": "1.2.0",
      "_model_name": "LayoutModel",
      "_view_count": null,
      "_view_module": "@jupyter-widgets/base",
      "_view_module_version": "1.2.0",
      "_view_name": "LayoutView",
      "align_content": null,
      "align_items": null,
      "align_self": null,
      "border": null,
      "bottom": null,
      "display": null,
      "flex": null,
      "flex_flow": null,
      "grid_area": null,
      "grid_auto_columns": null,
      "grid_auto_flow": null,
      "grid_auto_rows": null,
      "grid_column": null,
      "grid_gap": null,
      "grid_row": null,
      "grid_template_areas": null,
      "grid_template_columns": null,
      "grid_template_rows": null,
      "height": null,
      "justify_content": null,
      "justify_items": null,
      "left": null,
      "margin": null,
      "max_height": null,
      "max_width": null,
      "min_height": null,
      "min_width": null,
      "object_fit": null,
      "object_position": null,
      "order": null,
      "overflow": null,
      "overflow_x": null,
      "overflow_y": null,
      "padding": null,
      "right": null,
      "top": null,
      "visibility": null,
      "width": null
     }
    },
    "7584295a605c4a99a4dccce31be4cb2d": {
     "model_module": "@jupyter-widgets/controls",
     "model_module_version": "1.5.0",
     "model_name": "DescriptionStyleModel",
     "state": {
      "_model_module": "@jupyter-widgets/controls",
      "_model_module_version": "1.5.0",
      "_model_name": "DescriptionStyleModel",
      "_view_count": null,
      "_view_module": "@jupyter-widgets/base",
      "_view_module_version": "1.2.0",
      "_view_name": "StyleView",
      "description_width": ""
     }
    },
    "7cbce63b72c843e9ad824dce59a7e2fb": {
     "model_module": "@jupyter-widgets/controls",
     "model_module_version": "1.5.0",
     "model_name": "HTMLModel",
     "state": {
      "_dom_classes": [],
      "_model_module": "@jupyter-widgets/controls",
      "_model_module_version": "1.5.0",
      "_model_name": "HTMLModel",
      "_view_count": null,
      "_view_module": "@jupyter-widgets/controls",
      "_view_module_version": "1.5.0",
      "_view_name": "HTMLView",
      "description": "",
      "description_tooltip": null,
      "layout": "IPY_MODEL_393cc69622f3428fba3e10886e5ab65d",
      "placeholder": "​",
      "style": "IPY_MODEL_1c75908cdb0d4909a266ef3f0184c13d",
      "value": " 5120/? [00:00&lt;00:00, 87902.47it/s]"
     }
    },
    "952170c8ff4d4fa9b7141d372b35cdd1": {
     "model_module": "@jupyter-widgets/controls",
     "model_module_version": "1.5.0",
     "model_name": "FloatProgressModel",
     "state": {
      "_dom_classes": [],
      "_model_module": "@jupyter-widgets/controls",
      "_model_module_version": "1.5.0",
      "_model_name": "FloatProgressModel",
      "_view_count": null,
      "_view_module": "@jupyter-widgets/controls",
      "_view_module_version": "1.5.0",
      "_view_name": "ProgressView",
      "bar_style": "success",
      "description": "",
      "description_tooltip": null,
      "layout": "IPY_MODEL_3f37e8639ddd4a6eac44420ce3275cd7",
      "max": 4542,
      "min": 0,
      "orientation": "horizontal",
      "style": "IPY_MODEL_e2b60171e7ca45bea357831419d2f9c6",
      "value": 4542
     }
    },
    "a8e8fb1c355445698cbc828dddffb9e5": {
     "model_module": "@jupyter-widgets/base",
     "model_module_version": "1.2.0",
     "model_name": "LayoutModel",
     "state": {
      "_model_module": "@jupyter-widgets/base",
      "_model_module_version": "1.2.0",
      "_model_name": "LayoutModel",
      "_view_count": null,
      "_view_module": "@jupyter-widgets/base",
      "_view_module_version": "1.2.0",
      "_view_name": "LayoutView",
      "align_content": null,
      "align_items": null,
      "align_self": null,
      "border": null,
      "bottom": null,
      "display": null,
      "flex": null,
      "flex_flow": null,
      "grid_area": null,
      "grid_auto_columns": null,
      "grid_auto_flow": null,
      "grid_auto_rows": null,
      "grid_column": null,
      "grid_gap": null,
      "grid_row": null,
      "grid_template_areas": null,
      "grid_template_columns": null,
      "grid_template_rows": null,
      "height": null,
      "justify_content": null,
      "justify_items": null,
      "left": null,
      "margin": null,
      "max_height": null,
      "max_width": null,
      "min_height": null,
      "min_width": null,
      "object_fit": null,
      "object_position": null,
      "order": null,
      "overflow": null,
      "overflow_x": null,
      "overflow_y": null,
      "padding": null,
      "right": null,
      "top": null,
      "visibility": null,
      "width": null
     }
    },
    "ace3e747ccfd4f9f9faf46ce34936ce1": {
     "model_module": "@jupyter-widgets/controls",
     "model_module_version": "1.5.0",
     "model_name": "HTMLModel",
     "state": {
      "_dom_classes": [],
      "_model_module": "@jupyter-widgets/controls",
      "_model_module_version": "1.5.0",
      "_model_name": "HTMLModel",
      "_view_count": null,
      "_view_module": "@jupyter-widgets/controls",
      "_view_module_version": "1.5.0",
      "_view_name": "HTMLView",
      "description": "",
      "description_tooltip": null,
      "layout": "IPY_MODEL_34e1a2b9f934411090026a0ee98a3b5b",
      "placeholder": "​",
      "style": "IPY_MODEL_5335eb0e67f84c85b9efacc7793d24fd",
      "value": " 9913344/? [00:00&lt;00:00, 30809548.66it/s]"
     }
    },
    "ae65786c8b1e4e789ecb72bcd6b9b211": {
     "model_module": "@jupyter-widgets/controls",
     "model_module_version": "1.5.0",
     "model_name": "HBoxModel",
     "state": {
      "_dom_classes": [],
      "_model_module": "@jupyter-widgets/controls",
      "_model_module_version": "1.5.0",
      "_model_name": "HBoxModel",
      "_view_count": null,
      "_view_module": "@jupyter-widgets/controls",
      "_view_module_version": "1.5.0",
      "_view_name": "HBoxView",
      "box_style": "",
      "children": [
       "IPY_MODEL_5953a85cd7334c828cf5005b2807fa41",
       "IPY_MODEL_952170c8ff4d4fa9b7141d372b35cdd1",
       "IPY_MODEL_7cbce63b72c843e9ad824dce59a7e2fb"
      ],
      "layout": "IPY_MODEL_cfc67a5bebd247838d29b9babacbc103"
     }
    },
    "b2ca643df597463dad1d5efe8abf64c4": {
     "model_module": "@jupyter-widgets/base",
     "model_module_version": "1.2.0",
     "model_name": "LayoutModel",
     "state": {
      "_model_module": "@jupyter-widgets/base",
      "_model_module_version": "1.2.0",
      "_model_name": "LayoutModel",
      "_view_count": null,
      "_view_module": "@jupyter-widgets/base",
      "_view_module_version": "1.2.0",
      "_view_name": "LayoutView",
      "align_content": null,
      "align_items": null,
      "align_self": null,
      "border": null,
      "bottom": null,
      "display": null,
      "flex": null,
      "flex_flow": null,
      "grid_area": null,
      "grid_auto_columns": null,
      "grid_auto_flow": null,
      "grid_auto_rows": null,
      "grid_column": null,
      "grid_gap": null,
      "grid_row": null,
      "grid_template_areas": null,
      "grid_template_columns": null,
      "grid_template_rows": null,
      "height": null,
      "justify_content": null,
      "justify_items": null,
      "left": null,
      "margin": null,
      "max_height": null,
      "max_width": null,
      "min_height": null,
      "min_width": null,
      "object_fit": null,
      "object_position": null,
      "order": null,
      "overflow": null,
      "overflow_x": null,
      "overflow_y": null,
      "padding": null,
      "right": null,
      "top": null,
      "visibility": null,
      "width": null
     }
    },
    "b6d2f65a2e644523b7ecc6e3e9e17de3": {
     "model_module": "@jupyter-widgets/base",
     "model_module_version": "1.2.0",
     "model_name": "LayoutModel",
     "state": {
      "_model_module": "@jupyter-widgets/base",
      "_model_module_version": "1.2.0",
      "_model_name": "LayoutModel",
      "_view_count": null,
      "_view_module": "@jupyter-widgets/base",
      "_view_module_version": "1.2.0",
      "_view_name": "LayoutView",
      "align_content": null,
      "align_items": null,
      "align_self": null,
      "border": null,
      "bottom": null,
      "display": null,
      "flex": null,
      "flex_flow": null,
      "grid_area": null,
      "grid_auto_columns": null,
      "grid_auto_flow": null,
      "grid_auto_rows": null,
      "grid_column": null,
      "grid_gap": null,
      "grid_row": null,
      "grid_template_areas": null,
      "grid_template_columns": null,
      "grid_template_rows": null,
      "height": null,
      "justify_content": null,
      "justify_items": null,
      "left": null,
      "margin": null,
      "max_height": null,
      "max_width": null,
      "min_height": null,
      "min_width": null,
      "object_fit": null,
      "object_position": null,
      "order": null,
      "overflow": null,
      "overflow_x": null,
      "overflow_y": null,
      "padding": null,
      "right": null,
      "top": null,
      "visibility": null,
      "width": null
     }
    },
    "c168c7416db742f5bc74d45fe4a9bf05": {
     "model_module": "@jupyter-widgets/controls",
     "model_module_version": "1.5.0",
     "model_name": "DescriptionStyleModel",
     "state": {
      "_model_module": "@jupyter-widgets/controls",
      "_model_module_version": "1.5.0",
      "_model_name": "DescriptionStyleModel",
      "_view_count": null,
      "_view_module": "@jupyter-widgets/base",
      "_view_module_version": "1.2.0",
      "_view_name": "StyleView",
      "description_width": ""
     }
    },
    "c46454929cae4e89976f42d9bc391a94": {
     "model_module": "@jupyter-widgets/controls",
     "model_module_version": "1.5.0",
     "model_name": "FloatProgressModel",
     "state": {
      "_dom_classes": [],
      "_model_module": "@jupyter-widgets/controls",
      "_model_module_version": "1.5.0",
      "_model_name": "FloatProgressModel",
      "_view_count": null,
      "_view_module": "@jupyter-widgets/controls",
      "_view_module_version": "1.5.0",
      "_view_name": "ProgressView",
      "bar_style": "success",
      "description": "",
      "description_tooltip": null,
      "layout": "IPY_MODEL_dc961678433f488babca027e197d2aa1",
      "max": 9912422,
      "min": 0,
      "orientation": "horizontal",
      "style": "IPY_MODEL_d312e5166b28438da2b9e91de91f0e09",
      "value": 9912422
     }
    },
    "c893fabe4af6410d837a0bd191df61d9": {
     "model_module": "@jupyter-widgets/base",
     "model_module_version": "1.2.0",
     "model_name": "LayoutModel",
     "state": {
      "_model_module": "@jupyter-widgets/base",
      "_model_module_version": "1.2.0",
      "_model_name": "LayoutModel",
      "_view_count": null,
      "_view_module": "@jupyter-widgets/base",
      "_view_module_version": "1.2.0",
      "_view_name": "LayoutView",
      "align_content": null,
      "align_items": null,
      "align_self": null,
      "border": null,
      "bottom": null,
      "display": null,
      "flex": null,
      "flex_flow": null,
      "grid_area": null,
      "grid_auto_columns": null,
      "grid_auto_flow": null,
      "grid_auto_rows": null,
      "grid_column": null,
      "grid_gap": null,
      "grid_row": null,
      "grid_template_areas": null,
      "grid_template_columns": null,
      "grid_template_rows": null,
      "height": null,
      "justify_content": null,
      "justify_items": null,
      "left": null,
      "margin": null,
      "max_height": null,
      "max_width": null,
      "min_height": null,
      "min_width": null,
      "object_fit": null,
      "object_position": null,
      "order": null,
      "overflow": null,
      "overflow_x": null,
      "overflow_y": null,
      "padding": null,
      "right": null,
      "top": null,
      "visibility": null,
      "width": null
     }
    },
    "c8c570bdf96340c1bbf4e612f3d0c3c4": {
     "model_module": "@jupyter-widgets/base",
     "model_module_version": "1.2.0",
     "model_name": "LayoutModel",
     "state": {
      "_model_module": "@jupyter-widgets/base",
      "_model_module_version": "1.2.0",
      "_model_name": "LayoutModel",
      "_view_count": null,
      "_view_module": "@jupyter-widgets/base",
      "_view_module_version": "1.2.0",
      "_view_name": "LayoutView",
      "align_content": null,
      "align_items": null,
      "align_self": null,
      "border": null,
      "bottom": null,
      "display": null,
      "flex": null,
      "flex_flow": null,
      "grid_area": null,
      "grid_auto_columns": null,
      "grid_auto_flow": null,
      "grid_auto_rows": null,
      "grid_column": null,
      "grid_gap": null,
      "grid_row": null,
      "grid_template_areas": null,
      "grid_template_columns": null,
      "grid_template_rows": null,
      "height": null,
      "justify_content": null,
      "justify_items": null,
      "left": null,
      "margin": null,
      "max_height": null,
      "max_width": null,
      "min_height": null,
      "min_width": null,
      "object_fit": null,
      "object_position": null,
      "order": null,
      "overflow": null,
      "overflow_x": null,
      "overflow_y": null,
      "padding": null,
      "right": null,
      "top": null,
      "visibility": null,
      "width": null
     }
    },
    "cfc67a5bebd247838d29b9babacbc103": {
     "model_module": "@jupyter-widgets/base",
     "model_module_version": "1.2.0",
     "model_name": "LayoutModel",
     "state": {
      "_model_module": "@jupyter-widgets/base",
      "_model_module_version": "1.2.0",
      "_model_name": "LayoutModel",
      "_view_count": null,
      "_view_module": "@jupyter-widgets/base",
      "_view_module_version": "1.2.0",
      "_view_name": "LayoutView",
      "align_content": null,
      "align_items": null,
      "align_self": null,
      "border": null,
      "bottom": null,
      "display": null,
      "flex": null,
      "flex_flow": null,
      "grid_area": null,
      "grid_auto_columns": null,
      "grid_auto_flow": null,
      "grid_auto_rows": null,
      "grid_column": null,
      "grid_gap": null,
      "grid_row": null,
      "grid_template_areas": null,
      "grid_template_columns": null,
      "grid_template_rows": null,
      "height": null,
      "justify_content": null,
      "justify_items": null,
      "left": null,
      "margin": null,
      "max_height": null,
      "max_width": null,
      "min_height": null,
      "min_width": null,
      "object_fit": null,
      "object_position": null,
      "order": null,
      "overflow": null,
      "overflow_x": null,
      "overflow_y": null,
      "padding": null,
      "right": null,
      "top": null,
      "visibility": null,
      "width": null
     }
    },
    "d0a2f52a311541a686f592a985e1aac0": {
     "model_module": "@jupyter-widgets/controls",
     "model_module_version": "1.5.0",
     "model_name": "FloatProgressModel",
     "state": {
      "_dom_classes": [],
      "_model_module": "@jupyter-widgets/controls",
      "_model_module_version": "1.5.0",
      "_model_name": "FloatProgressModel",
      "_view_count": null,
      "_view_module": "@jupyter-widgets/controls",
      "_view_module_version": "1.5.0",
      "_view_name": "ProgressView",
      "bar_style": "success",
      "description": "",
      "description_tooltip": null,
      "layout": "IPY_MODEL_b2ca643df597463dad1d5efe8abf64c4",
      "max": 28881,
      "min": 0,
      "orientation": "horizontal",
      "style": "IPY_MODEL_4abe9a5443514e00a536c839a9a5e04d",
      "value": 28881
     }
    },
    "d274e40c0adb4d3e80e8d1cf5ad475ee": {
     "model_module": "@jupyter-widgets/controls",
     "model_module_version": "1.5.0",
     "model_name": "DescriptionStyleModel",
     "state": {
      "_model_module": "@jupyter-widgets/controls",
      "_model_module_version": "1.5.0",
      "_model_name": "DescriptionStyleModel",
      "_view_count": null,
      "_view_module": "@jupyter-widgets/base",
      "_view_module_version": "1.2.0",
      "_view_name": "StyleView",
      "description_width": ""
     }
    },
    "d312e5166b28438da2b9e91de91f0e09": {
     "model_module": "@jupyter-widgets/controls",
     "model_module_version": "1.5.0",
     "model_name": "ProgressStyleModel",
     "state": {
      "_model_module": "@jupyter-widgets/controls",
      "_model_module_version": "1.5.0",
      "_model_name": "ProgressStyleModel",
      "_view_count": null,
      "_view_module": "@jupyter-widgets/base",
      "_view_module_version": "1.2.0",
      "_view_name": "StyleView",
      "bar_color": null,
      "description_width": ""
     }
    },
    "dc961678433f488babca027e197d2aa1": {
     "model_module": "@jupyter-widgets/base",
     "model_module_version": "1.2.0",
     "model_name": "LayoutModel",
     "state": {
      "_model_module": "@jupyter-widgets/base",
      "_model_module_version": "1.2.0",
      "_model_name": "LayoutModel",
      "_view_count": null,
      "_view_module": "@jupyter-widgets/base",
      "_view_module_version": "1.2.0",
      "_view_name": "LayoutView",
      "align_content": null,
      "align_items": null,
      "align_self": null,
      "border": null,
      "bottom": null,
      "display": null,
      "flex": null,
      "flex_flow": null,
      "grid_area": null,
      "grid_auto_columns": null,
      "grid_auto_flow": null,
      "grid_auto_rows": null,
      "grid_column": null,
      "grid_gap": null,
      "grid_row": null,
      "grid_template_areas": null,
      "grid_template_columns": null,
      "grid_template_rows": null,
      "height": null,
      "justify_content": null,
      "justify_items": null,
      "left": null,
      "margin": null,
      "max_height": null,
      "max_width": null,
      "min_height": null,
      "min_width": null,
      "object_fit": null,
      "object_position": null,
      "order": null,
      "overflow": null,
      "overflow_x": null,
      "overflow_y": null,
      "padding": null,
      "right": null,
      "top": null,
      "visibility": null,
      "width": null
     }
    },
    "ddcca6cc591f45a887f80bcc5d27ce13": {
     "model_module": "@jupyter-widgets/controls",
     "model_module_version": "1.5.0",
     "model_name": "HBoxModel",
     "state": {
      "_dom_classes": [],
      "_model_module": "@jupyter-widgets/controls",
      "_model_module_version": "1.5.0",
      "_model_name": "HBoxModel",
      "_view_count": null,
      "_view_module": "@jupyter-widgets/controls",
      "_view_module_version": "1.5.0",
      "_view_name": "HBoxView",
      "box_style": "",
      "children": [
       "IPY_MODEL_30b8e4960e564891ad81ac242c228b25",
       "IPY_MODEL_c46454929cae4e89976f42d9bc391a94",
       "IPY_MODEL_ace3e747ccfd4f9f9faf46ce34936ce1"
      ],
      "layout": "IPY_MODEL_c8c570bdf96340c1bbf4e612f3d0c3c4"
     }
    },
    "e2b60171e7ca45bea357831419d2f9c6": {
     "model_module": "@jupyter-widgets/controls",
     "model_module_version": "1.5.0",
     "model_name": "ProgressStyleModel",
     "state": {
      "_model_module": "@jupyter-widgets/controls",
      "_model_module_version": "1.5.0",
      "_model_name": "ProgressStyleModel",
      "_view_count": null,
      "_view_module": "@jupyter-widgets/base",
      "_view_module_version": "1.2.0",
      "_view_name": "StyleView",
      "bar_color": null,
      "description_width": ""
     }
    },
    "e81b4f6589d649758fd2cd18da8ab35f": {
     "model_module": "@jupyter-widgets/base",
     "model_module_version": "1.2.0",
     "model_name": "LayoutModel",
     "state": {
      "_model_module": "@jupyter-widgets/base",
      "_model_module_version": "1.2.0",
      "_model_name": "LayoutModel",
      "_view_count": null,
      "_view_module": "@jupyter-widgets/base",
      "_view_module_version": "1.2.0",
      "_view_name": "LayoutView",
      "align_content": null,
      "align_items": null,
      "align_self": null,
      "border": null,
      "bottom": null,
      "display": null,
      "flex": null,
      "flex_flow": null,
      "grid_area": null,
      "grid_auto_columns": null,
      "grid_auto_flow": null,
      "grid_auto_rows": null,
      "grid_column": null,
      "grid_gap": null,
      "grid_row": null,
      "grid_template_areas": null,
      "grid_template_columns": null,
      "grid_template_rows": null,
      "height": null,
      "justify_content": null,
      "justify_items": null,
      "left": null,
      "margin": null,
      "max_height": null,
      "max_width": null,
      "min_height": null,
      "min_width": null,
      "object_fit": null,
      "object_position": null,
      "order": null,
      "overflow": null,
      "overflow_x": null,
      "overflow_y": null,
      "padding": null,
      "right": null,
      "top": null,
      "visibility": null,
      "width": null
     }
    },
    "e85d5726a566462e962baa75f32074d6": {
     "model_module": "@jupyter-widgets/base",
     "model_module_version": "1.2.0",
     "model_name": "LayoutModel",
     "state": {
      "_model_module": "@jupyter-widgets/base",
      "_model_module_version": "1.2.0",
      "_model_name": "LayoutModel",
      "_view_count": null,
      "_view_module": "@jupyter-widgets/base",
      "_view_module_version": "1.2.0",
      "_view_name": "LayoutView",
      "align_content": null,
      "align_items": null,
      "align_self": null,
      "border": null,
      "bottom": null,
      "display": null,
      "flex": null,
      "flex_flow": null,
      "grid_area": null,
      "grid_auto_columns": null,
      "grid_auto_flow": null,
      "grid_auto_rows": null,
      "grid_column": null,
      "grid_gap": null,
      "grid_row": null,
      "grid_template_areas": null,
      "grid_template_columns": null,
      "grid_template_rows": null,
      "height": null,
      "justify_content": null,
      "justify_items": null,
      "left": null,
      "margin": null,
      "max_height": null,
      "max_width": null,
      "min_height": null,
      "min_width": null,
      "object_fit": null,
      "object_position": null,
      "order": null,
      "overflow": null,
      "overflow_x": null,
      "overflow_y": null,
      "padding": null,
      "right": null,
      "top": null,
      "visibility": null,
      "width": null
     }
    },
    "f314f3212d8f49468ccce3ad1cb8af6e": {
     "model_module": "@jupyter-widgets/controls",
     "model_module_version": "1.5.0",
     "model_name": "HBoxModel",
     "state": {
      "_dom_classes": [],
      "_model_module": "@jupyter-widgets/controls",
      "_model_module_version": "1.5.0",
      "_model_name": "HBoxModel",
      "_view_count": null,
      "_view_module": "@jupyter-widgets/controls",
      "_view_module_version": "1.5.0",
      "_view_name": "HBoxView",
      "box_style": "",
      "children": [
       "IPY_MODEL_32bd67ddf3a44b879cb123aa797627c0",
       "IPY_MODEL_237d834d5fd74efa947683722d3e0e37",
       "IPY_MODEL_29be09a9c5344928a9d2dda75ed8680c"
      ],
      "layout": "IPY_MODEL_694229176eb84488811763e57ccdbd9f"
     }
    },
    "f69883e80817409c9a10a2ec6d6ef68c": {
     "model_module": "@jupyter-widgets/controls",
     "model_module_version": "1.5.0",
     "model_name": "DescriptionStyleModel",
     "state": {
      "_model_module": "@jupyter-widgets/controls",
      "_model_module_version": "1.5.0",
      "_model_name": "DescriptionStyleModel",
      "_view_count": null,
      "_view_module": "@jupyter-widgets/base",
      "_view_module_version": "1.2.0",
      "_view_name": "StyleView",
      "description_width": ""
     }
    },
    "f86c7ffecc394345a4eeb587cfd404d1": {
     "model_module": "@jupyter-widgets/controls",
     "model_module_version": "1.5.0",
     "model_name": "ProgressStyleModel",
     "state": {
      "_model_module": "@jupyter-widgets/controls",
      "_model_module_version": "1.5.0",
      "_model_name": "ProgressStyleModel",
      "_view_count": null,
      "_view_module": "@jupyter-widgets/base",
      "_view_module_version": "1.2.0",
      "_view_name": "StyleView",
      "bar_color": null,
      "description_width": ""
     }
    }
   }
  }
 },
 "nbformat": 4,
 "nbformat_minor": 4
}
